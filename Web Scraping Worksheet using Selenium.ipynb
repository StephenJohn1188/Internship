{
 "cells": [
  {
   "cell_type": "markdown",
   "id": "31d7cedf",
   "metadata": {},
   "source": [
    "# Q1. Python program to scrape data for “Data Analyst” Job position in “Bangalore” location"
   ]
  },
  {
   "cell_type": "code",
   "execution_count": 1,
   "id": "4bc993de",
   "metadata": {},
   "outputs": [
    {
     "name": "stdout",
     "output_type": "stream",
     "text": [
      "Requirement already satisfied: selenium in c:\\users\\stephen john\\anaconda3\\lib\\site-packages (4.4.0)\n",
      "Requirement already satisfied: urllib3[secure,socks]~=1.26 in c:\\users\\stephen john\\anaconda3\\lib\\site-packages (from selenium) (1.26.9)\n",
      "Requirement already satisfied: trio~=0.17 in c:\\users\\stephen john\\anaconda3\\lib\\site-packages (from selenium) (0.21.0)\n",
      "Requirement already satisfied: trio-websocket~=0.9 in c:\\users\\stephen john\\anaconda3\\lib\\site-packages (from selenium) (0.9.2)\n",
      "Requirement already satisfied: sortedcontainers in c:\\users\\stephen john\\anaconda3\\lib\\site-packages (from trio~=0.17->selenium) (2.4.0)\n",
      "Requirement already satisfied: sniffio in c:\\users\\stephen john\\anaconda3\\lib\\site-packages (from trio~=0.17->selenium) (1.2.0)\n",
      "Requirement already satisfied: attrs>=19.2.0 in c:\\users\\stephen john\\anaconda3\\lib\\site-packages (from trio~=0.17->selenium) (21.4.0)\n",
      "Requirement already satisfied: idna in c:\\users\\stephen john\\anaconda3\\lib\\site-packages (from trio~=0.17->selenium) (3.3)\n",
      "Requirement already satisfied: outcome in c:\\users\\stephen john\\anaconda3\\lib\\site-packages (from trio~=0.17->selenium) (1.2.0)\n",
      "Requirement already satisfied: async-generator>=1.9 in c:\\users\\stephen john\\anaconda3\\lib\\site-packages (from trio~=0.17->selenium) (1.10)\n",
      "Requirement already satisfied: cffi>=1.14 in c:\\users\\stephen john\\anaconda3\\lib\\site-packages (from trio~=0.17->selenium) (1.15.0)\n",
      "Requirement already satisfied: pycparser in c:\\users\\stephen john\\anaconda3\\lib\\site-packages (from cffi>=1.14->trio~=0.17->selenium) (2.21)\n",
      "Requirement already satisfied: wsproto>=0.14 in c:\\users\\stephen john\\anaconda3\\lib\\site-packages (from trio-websocket~=0.9->selenium) (1.1.0)\n",
      "Requirement already satisfied: PySocks!=1.5.7,<2.0,>=1.5.6 in c:\\users\\stephen john\\anaconda3\\lib\\site-packages (from urllib3[secure,socks]~=1.26->selenium) (1.7.1)\n",
      "Requirement already satisfied: certifi in c:\\users\\stephen john\\anaconda3\\lib\\site-packages (from urllib3[secure,socks]~=1.26->selenium) (2021.10.8)\n",
      "Requirement already satisfied: cryptography>=1.3.4 in c:\\users\\stephen john\\anaconda3\\lib\\site-packages (from urllib3[secure,socks]~=1.26->selenium) (3.4.8)\n",
      "Requirement already satisfied: pyOpenSSL>=0.14 in c:\\users\\stephen john\\anaconda3\\lib\\site-packages (from urllib3[secure,socks]~=1.26->selenium) (21.0.0)\n",
      "Requirement already satisfied: six>=1.5.2 in c:\\users\\stephen john\\anaconda3\\lib\\site-packages (from pyOpenSSL>=0.14->urllib3[secure,socks]~=1.26->selenium) (1.16.0)\n",
      "Requirement already satisfied: h11<1,>=0.9.0 in c:\\users\\stephen john\\anaconda3\\lib\\site-packages (from wsproto>=0.14->trio-websocket~=0.9->selenium) (0.13.0)\n"
     ]
    }
   ],
   "source": [
    "!pip install selenium"
   ]
  },
  {
   "cell_type": "code",
   "execution_count": 2,
   "id": "13b6d9b1",
   "metadata": {},
   "outputs": [],
   "source": [
    "import selenium\n",
    "import pandas as pd\n",
    "from selenium import webdriver\n",
    "import warnings\n",
    "warnings.filterwarnings('ignore')\n",
    "from selenium.common.exceptions import StaleElementReferenceException, NoSuchElementException\n",
    "from selenium.webdriver.common.by import By\n",
    "import time"
   ]
  },
  {
   "cell_type": "code",
   "execution_count": 3,
   "id": "9f652731",
   "metadata": {},
   "outputs": [],
   "source": [
    "driver=webdriver.Chrome(r\"chromedriver.exe\")\n",
    "driver.get(\"https://www.naukri.com/\")\n",
    "designation=driver.find_element(By.CLASS_NAME,\"suggestor-input\")\n",
    "designation.send_keys('Data Analyst')\n",
    "location=driver.find_element(By.XPATH,\"/html/body/div[1]/div[2]/div[3]/div/div/div[5]/div/div/div/input\")\n",
    "location.send_keys('Bangalore')\n",
    "search=driver.find_element(By.CLASS_NAME,\"qsbSubmit\")\n",
    "search.click()\n",
    "job_title=[]\n",
    "job_location=[]\n",
    "company_name=[]\n",
    "experience_required=[]\n",
    "title_tags=driver.find_elements(By.XPATH,'//a[@class=\"title fw500 ellipsis\"]')\n",
    "for i in title_tags[0:10]:\n",
    "    title=i.text\n",
    "    job_title.append(title)\n",
    "location_tags=driver.find_elements(By.XPATH,'//li[@class=\"fleft grey-text br2 placeHolderLi location\"]')\n",
    "for i in location_tags[0:10]:\n",
    "    location=i.text\n",
    "    job_location.append(location)\n",
    "company_tags=driver.find_elements(By.XPATH,'//a[@class=\"subTitle ellipsis fleft\"]')\n",
    "for i in company_tags[0:10]:\n",
    "  company=i.text\n",
    "  company_name.append(company)\n",
    "experience_tags=driver.find_elements(By.XPATH,'//li[@class=\"fleft grey-text br2 placeHolderLi experience\"]//span')\n",
    "for i in experience_tags[0:10]:\n",
    "    exp=i.text\n",
    "    experience_required.append(exp) "
   ]
  },
  {
   "cell_type": "code",
   "execution_count": 4,
   "id": "3241199c",
   "metadata": {},
   "outputs": [
    {
     "name": "stdout",
     "output_type": "stream",
     "text": [
      "0 0 0 0\n"
     ]
    }
   ],
   "source": [
    "print(len(job_title),len(job_location),len(company_name),len(experience_required))"
   ]
  },
  {
   "cell_type": "code",
   "execution_count": 5,
   "id": "a313a1c4",
   "metadata": {},
   "outputs": [
    {
     "data": {
      "text/html": [
       "<div>\n",
       "<style scoped>\n",
       "    .dataframe tbody tr th:only-of-type {\n",
       "        vertical-align: middle;\n",
       "    }\n",
       "\n",
       "    .dataframe tbody tr th {\n",
       "        vertical-align: top;\n",
       "    }\n",
       "\n",
       "    .dataframe thead th {\n",
       "        text-align: right;\n",
       "    }\n",
       "</style>\n",
       "<table border=\"1\" class=\"dataframe\">\n",
       "  <thead>\n",
       "    <tr style=\"text-align: right;\">\n",
       "      <th></th>\n",
       "      <th>Job Titiel</th>\n",
       "      <th>Job Location</th>\n",
       "      <th>Company Name</th>\n",
       "      <th>Experience Required</th>\n",
       "    </tr>\n",
       "  </thead>\n",
       "  <tbody>\n",
       "  </tbody>\n",
       "</table>\n",
       "</div>"
      ],
      "text/plain": [
       "Empty DataFrame\n",
       "Columns: [Job Titiel, Job Location, Company Name, Experience Required]\n",
       "Index: []"
      ]
     },
     "execution_count": 5,
     "metadata": {},
     "output_type": "execute_result"
    }
   ],
   "source": [
    "df=pd.DataFrame({'Job Titiel':job_title,'Job Location':job_location,'Company Name':company_name,'Experience Required':experience_required})\n",
    "df\n"
   ]
  },
  {
   "cell_type": "markdown",
   "id": "e5044774",
   "metadata": {},
   "source": [
    "# Q2. Python program to scrape data for “Data Scientist” Job position in “Bangalore” location"
   ]
  },
  {
   "cell_type": "code",
   "execution_count": 6,
   "id": "72338719",
   "metadata": {},
   "outputs": [],
   "source": [
    "driver=webdriver.Chrome(r\"chromedriver.exe\")"
   ]
  },
  {
   "cell_type": "code",
   "execution_count": 7,
   "id": "28b3ce4a",
   "metadata": {},
   "outputs": [],
   "source": [
    "driver.get(\"https://www.naukri.com/\")"
   ]
  },
  {
   "cell_type": "code",
   "execution_count": 8,
   "id": "0ed923a1",
   "metadata": {},
   "outputs": [],
   "source": [
    "designation=driver.find_element(By.CLASS_NAME,\"suggestor-input\")\n",
    "designation.send_keys('Data Scientist')"
   ]
  },
  {
   "cell_type": "code",
   "execution_count": 9,
   "id": "761942b0",
   "metadata": {},
   "outputs": [],
   "source": [
    "location=driver.find_element(By.XPATH,\"/html/body/div[1]/div[2]/div[3]/div/div/div[5]/div/div/div/input\")\n",
    "location.send_keys('Bangalore')"
   ]
  },
  {
   "cell_type": "code",
   "execution_count": 10,
   "id": "3c055847",
   "metadata": {},
   "outputs": [],
   "source": [
    "search=driver.find_element(By.CLASS_NAME,\"qsbSubmit\")\n",
    "search.click()"
   ]
  },
  {
   "cell_type": "code",
   "execution_count": 11,
   "id": "aff2aa25",
   "metadata": {},
   "outputs": [],
   "source": [
    "job_title=[]\n",
    "job_location=[]\n",
    "company_name=[]\n",
    "experience_required=[]"
   ]
  },
  {
   "cell_type": "code",
   "execution_count": 12,
   "id": "062d1de0",
   "metadata": {},
   "outputs": [],
   "source": [
    "title_tags=driver.find_elements(By.XPATH,'//a[@class=\"title fw500 ellipsis\"]')\n",
    "for i in title_tags[0:10]:\n",
    "    title=i.text\n",
    "    job_title.append(title)"
   ]
  },
  {
   "cell_type": "code",
   "execution_count": 13,
   "id": "e20ec1fb",
   "metadata": {},
   "outputs": [],
   "source": [
    "company_tags=driver.find_elements(By.XPATH,'//a[@class=\"subTitle ellipsis fleft\"]')\n",
    "for i in company_tags[0:10]:\n",
    "    company=i.text\n",
    "    company_name.append(company)"
   ]
  },
  {
   "cell_type": "code",
   "execution_count": 14,
   "id": "c2be5061",
   "metadata": {},
   "outputs": [],
   "source": [
    "location_tags=driver.find_elements(By.XPATH,'//li[@class=\"fleft grey-text br2 placeHolderLi location\"]')\n",
    "for i in location_tags[0:10]:\n",
    "    location=i.text\n",
    "    job_location.append(location)"
   ]
  },
  {
   "cell_type": "code",
   "execution_count": 15,
   "id": "bf65efa2",
   "metadata": {},
   "outputs": [],
   "source": [
    "experience_tags=driver.find_elements(By.XPATH,'//li[@class=\"fleft grey-text br2 placeHolderLi experience\"]//span')\n",
    "for i in experience_tags[0:10]:\n",
    "    exp=i.text\n",
    "    experience_required.append(exp)"
   ]
  },
  {
   "cell_type": "code",
   "execution_count": 16,
   "id": "5d7dd878",
   "metadata": {},
   "outputs": [
    {
     "name": "stdout",
     "output_type": "stream",
     "text": [
      "0 0 0 0\n"
     ]
    }
   ],
   "source": [
    "print(len(job_title),len(job_location),len(company_name),len(experience_required))"
   ]
  },
  {
   "cell_type": "code",
   "execution_count": 17,
   "id": "38f33811",
   "metadata": {},
   "outputs": [
    {
     "data": {
      "text/html": [
       "<div>\n",
       "<style scoped>\n",
       "    .dataframe tbody tr th:only-of-type {\n",
       "        vertical-align: middle;\n",
       "    }\n",
       "\n",
       "    .dataframe tbody tr th {\n",
       "        vertical-align: top;\n",
       "    }\n",
       "\n",
       "    .dataframe thead th {\n",
       "        text-align: right;\n",
       "    }\n",
       "</style>\n",
       "<table border=\"1\" class=\"dataframe\">\n",
       "  <thead>\n",
       "    <tr style=\"text-align: right;\">\n",
       "      <th></th>\n",
       "      <th>Job Title</th>\n",
       "      <th>Job Location</th>\n",
       "      <th>Company Name</th>\n",
       "      <th>Experience Required</th>\n",
       "    </tr>\n",
       "  </thead>\n",
       "  <tbody>\n",
       "  </tbody>\n",
       "</table>\n",
       "</div>"
      ],
      "text/plain": [
       "Empty DataFrame\n",
       "Columns: [Job Title, Job Location, Company Name, Experience Required]\n",
       "Index: []"
      ]
     },
     "execution_count": 17,
     "metadata": {},
     "output_type": "execute_result"
    }
   ],
   "source": [
    "df=pd.DataFrame({'Job Title':job_title,'Job Location':job_location,'Company Name':company_name,'Experience Required':experience_required})\n",
    "df"
   ]
  },
  {
   "cell_type": "markdown",
   "id": "3063a842",
   "metadata": {},
   "source": [
    "# Q3. Python Program to Scrape Loacation and Salary Filter"
   ]
  },
  {
   "cell_type": "code",
   "execution_count": 18,
   "id": "65ccac65",
   "metadata": {},
   "outputs": [],
   "source": [
    "driver=webdriver.Chrome(r\"chromedriver.exe\")"
   ]
  },
  {
   "cell_type": "code",
   "execution_count": 19,
   "id": "4ec16090",
   "metadata": {},
   "outputs": [],
   "source": [
    "driver.get(\"https://www.naukri.com/\")"
   ]
  },
  {
   "cell_type": "code",
   "execution_count": 20,
   "id": "748fa754",
   "metadata": {},
   "outputs": [],
   "source": [
    "designation=driver.find_element(By.CLASS_NAME,\"suggestor-input\")\n",
    "designation.send_keys('Data Scientist')"
   ]
  },
  {
   "cell_type": "code",
   "execution_count": 21,
   "id": "fe010402",
   "metadata": {},
   "outputs": [],
   "source": [
    "location=driver.find_element(By.XPATH,\"/html/body/div[1]/div[2]/div[3]/div/div/div[5]/div/div/div/input\")\n",
    "location.send_keys('Delhi')"
   ]
  },
  {
   "cell_type": "code",
   "execution_count": 22,
   "id": "7097b77b",
   "metadata": {},
   "outputs": [],
   "source": [
    "search=driver.find_element(By.CLASS_NAME,\"qsbSubmit\")\n",
    "search.click()"
   ]
  },
  {
   "cell_type": "code",
   "execution_count": 23,
   "id": "92a22dcb",
   "metadata": {},
   "outputs": [],
   "source": [
    "salary=driver.find_element(By.XPATH,'/html/body/div[1]/div[3]/div[2]/section[1]/div[2]/div[5]/div[2]/div[2]/label/p')\n",
    "salary.click()"
   ]
  },
  {
   "cell_type": "code",
   "execution_count": 24,
   "id": "60b93426",
   "metadata": {},
   "outputs": [],
   "source": [
    "job_title=[]\n",
    "job_location=[]\n",
    "company_name=[]\n",
    "experience_required=[]"
   ]
  },
  {
   "cell_type": "code",
   "execution_count": 25,
   "id": "4b4898bf",
   "metadata": {},
   "outputs": [],
   "source": [
    "title_tags=driver.find_elements(By.XPATH,'//a[@class=\"title fw500 ellipsis\"]')\n",
    "for i in title_tags[0:10]:\n",
    "    title=i.text\n",
    "    job_title.append(title)"
   ]
  },
  {
   "cell_type": "code",
   "execution_count": 26,
   "id": "46e9ca42",
   "metadata": {},
   "outputs": [],
   "source": [
    "company_tags=driver.find_elements(By.XPATH,'//a[@class=\"subTitle ellipsis fleft\"]')\n",
    "for i in company_tags[0:10]:\n",
    "    company=i.text\n",
    "    company_name.append(company)"
   ]
  },
  {
   "cell_type": "code",
   "execution_count": 27,
   "id": "e7fb0eb5",
   "metadata": {},
   "outputs": [],
   "source": [
    "location_tags=driver.find_elements(By.XPATH,'//li[@class=\"fleft grey-text br2 placeHolderLi location\"]')\n",
    "for i in location_tags[0:10]:\n",
    "    location=i.text\n",
    "    job_location.append(location)"
   ]
  },
  {
   "cell_type": "code",
   "execution_count": 28,
   "id": "f95b2b8b",
   "metadata": {},
   "outputs": [],
   "source": [
    "experience_tags=driver.find_elements(By.XPATH,'//li[@class=\"fleft grey-text br2 placeHolderLi experience\"]//span')\n",
    "for i in experience_tags[0:10]:\n",
    "    exp=i.text\n",
    "    experience_required.append(exp) "
   ]
  },
  {
   "cell_type": "code",
   "execution_count": 29,
   "id": "ba55cabf",
   "metadata": {},
   "outputs": [
    {
     "name": "stdout",
     "output_type": "stream",
     "text": [
      "0 0 0 0\n"
     ]
    }
   ],
   "source": [
    "print(len(job_title),len(job_location),len(company_name),len(experience_required))"
   ]
  },
  {
   "cell_type": "code",
   "execution_count": 30,
   "id": "287d40dc",
   "metadata": {},
   "outputs": [
    {
     "data": {
      "text/html": [
       "<div>\n",
       "<style scoped>\n",
       "    .dataframe tbody tr th:only-of-type {\n",
       "        vertical-align: middle;\n",
       "    }\n",
       "\n",
       "    .dataframe tbody tr th {\n",
       "        vertical-align: top;\n",
       "    }\n",
       "\n",
       "    .dataframe thead th {\n",
       "        text-align: right;\n",
       "    }\n",
       "</style>\n",
       "<table border=\"1\" class=\"dataframe\">\n",
       "  <thead>\n",
       "    <tr style=\"text-align: right;\">\n",
       "      <th></th>\n",
       "      <th>Job Title</th>\n",
       "      <th>Job Location</th>\n",
       "      <th>Company Name</th>\n",
       "      <th>Experience Required</th>\n",
       "    </tr>\n",
       "  </thead>\n",
       "  <tbody>\n",
       "  </tbody>\n",
       "</table>\n",
       "</div>"
      ],
      "text/plain": [
       "Empty DataFrame\n",
       "Columns: [Job Title, Job Location, Company Name, Experience Required]\n",
       "Index: []"
      ]
     },
     "execution_count": 30,
     "metadata": {},
     "output_type": "execute_result"
    }
   ],
   "source": [
    "df=pd.DataFrame({'Job Title':job_title,'Job Location':job_location,'Company Name':company_name,'Experience Required':experience_required})\n",
    "df"
   ]
  },
  {
   "cell_type": "markdown",
   "id": "081b7420",
   "metadata": {},
   "source": [
    "# Q4. Data of first 100 sunglasses listings on flipkart.com"
   ]
  },
  {
   "cell_type": "code",
   "execution_count": 31,
   "id": "018e306d",
   "metadata": {},
   "outputs": [],
   "source": [
    "driver=webdriver.Chrome(r\"chromedriver.exe\")"
   ]
  },
  {
   "cell_type": "code",
   "execution_count": 32,
   "id": "bc455dfd",
   "metadata": {},
   "outputs": [],
   "source": [
    "driver.get(\"http://www.flipkart.com/\")"
   ]
  },
  {
   "cell_type": "code",
   "execution_count": 33,
   "id": "12c0a5dc",
   "metadata": {},
   "outputs": [],
   "source": [
    "cross=driver.find_element(By.XPATH,\"/html/body/div[2]/div/div/button\")\n",
    "cross.click()"
   ]
  },
  {
   "cell_type": "code",
   "execution_count": 34,
   "id": "5ea49720",
   "metadata": {},
   "outputs": [],
   "source": [
    "product=driver.find_element(By.XPATH,\"/html/body/div[1]/div/div[1]/div[1]/div[2]/div[2]/form/div/div/input\")\n",
    "product.send_keys('sunglasses')"
   ]
  },
  {
   "cell_type": "code",
   "execution_count": 35,
   "id": "c2faa38f",
   "metadata": {},
   "outputs": [],
   "source": [
    "search=driver.find_element(By.CLASS_NAME,\"L0Z3Pu\")\n",
    "search.click()"
   ]
  },
  {
   "cell_type": "code",
   "execution_count": 36,
   "id": "1788056b",
   "metadata": {},
   "outputs": [],
   "source": [
    "brand=[]\n",
    "price=[]\n",
    "product_description=[]"
   ]
  },
  {
   "cell_type": "code",
   "execution_count": 37,
   "id": "0ae65b5e",
   "metadata": {},
   "outputs": [],
   "source": [
    "brand_tags=driver.find_elements(By.XPATH,'//div[@class=\"_2WkVRV\"]')\n",
    "for i in brand_tags[0:100]:\n",
    "    bd=i.text\n",
    "    brand.append(bd)"
   ]
  },
  {
   "cell_type": "code",
   "execution_count": 38,
   "id": "f883c4d1",
   "metadata": {},
   "outputs": [],
   "source": [
    "price_tags=driver.find_elements(By.XPATH,'//div[@class=\"_30jeq3\"]')\n",
    "for i in price_tags[0:100]:\n",
    "    PR=i.text\n",
    "    price.append(PR)"
   ]
  },
  {
   "cell_type": "code",
   "execution_count": 39,
   "id": "74f5ea1e",
   "metadata": {},
   "outputs": [],
   "source": [
    "df=pd.DataFrame({'Brand':brand,\"Price\":price})"
   ]
  },
  {
   "cell_type": "code",
   "execution_count": 40,
   "id": "afd28b59",
   "metadata": {},
   "outputs": [
    {
     "data": {
      "text/html": [
       "<div>\n",
       "<style scoped>\n",
       "    .dataframe tbody tr th:only-of-type {\n",
       "        vertical-align: middle;\n",
       "    }\n",
       "\n",
       "    .dataframe tbody tr th {\n",
       "        vertical-align: top;\n",
       "    }\n",
       "\n",
       "    .dataframe thead th {\n",
       "        text-align: right;\n",
       "    }\n",
       "</style>\n",
       "<table border=\"1\" class=\"dataframe\">\n",
       "  <thead>\n",
       "    <tr style=\"text-align: right;\">\n",
       "      <th></th>\n",
       "      <th>Brand</th>\n",
       "      <th>Price</th>\n",
       "    </tr>\n",
       "  </thead>\n",
       "  <tbody>\n",
       "  </tbody>\n",
       "</table>\n",
       "</div>"
      ],
      "text/plain": [
       "Empty DataFrame\n",
       "Columns: [Brand, Price]\n",
       "Index: []"
      ]
     },
     "execution_count": 40,
     "metadata": {},
     "output_type": "execute_result"
    }
   ],
   "source": [
    "df"
   ]
  },
  {
   "cell_type": "markdown",
   "id": "163e1cd8",
   "metadata": {},
   "source": [
    "# Q5. Scrape 100 reviews data from flipkart.com for iphone11 phone"
   ]
  },
  {
   "cell_type": "code",
   "execution_count": 41,
   "id": "eed8bea0",
   "metadata": {},
   "outputs": [],
   "source": [
    "driver=webdriver.Chrome(r\"chromedriver.exe\")"
   ]
  },
  {
   "cell_type": "code",
   "execution_count": 42,
   "id": "dc1e2003",
   "metadata": {},
   "outputs": [],
   "source": [
    "driver.get(\"http://www.flipkart.com/\")"
   ]
  },
  {
   "cell_type": "code",
   "execution_count": 43,
   "id": "fdf3c4b3",
   "metadata": {},
   "outputs": [],
   "source": [
    "cross=driver.find_element(By.XPATH,\"/html/body/div[2]/div/div/button\")\n",
    "cross.click()"
   ]
  },
  {
   "cell_type": "code",
   "execution_count": 44,
   "id": "3c5c7da3",
   "metadata": {},
   "outputs": [],
   "source": [
    "product=driver.find_element(By.XPATH,\"/html/body/div[1]/div/div[1]/div[1]/div[2]/div[2]/form/div/div/input\")\n",
    "product.send_keys('iphone11')"
   ]
  },
  {
   "cell_type": "code",
   "execution_count": 45,
   "id": "9b3fc261",
   "metadata": {},
   "outputs": [],
   "source": [
    "search=driver.find_element(By.CLASS_NAME,\"L0Z3Pu\")\n",
    "search.click()"
   ]
  },
  {
   "cell_type": "code",
   "execution_count": 46,
   "id": "a2e2593e",
   "metadata": {},
   "outputs": [
    {
     "ename": "NoSuchElementException",
     "evalue": "Message: no such element: Unable to locate element: {\"method\":\"css selector\",\"selector\":\"._4rR01T\"}\n  (Session info: chrome=104.0.5112.81)\nStacktrace:\nBacktrace:\n\tOrdinal0 [0x00FB78B3+2193587]\n\tOrdinal0 [0x00F50681+1771137]\n\tOrdinal0 [0x00E641A8+803240]\n\tOrdinal0 [0x00E924A0+992416]\n\tOrdinal0 [0x00E9273B+993083]\n\tOrdinal0 [0x00EBF7C2+1177538]\n\tOrdinal0 [0x00EAD7F4+1103860]\n\tOrdinal0 [0x00EBDAE2+1170146]\n\tOrdinal0 [0x00EAD5C6+1103302]\n\tOrdinal0 [0x00E877E0+948192]\n\tOrdinal0 [0x00E886E6+952038]\n\tGetHandleVerifier [0x01260CB2+2738370]\n\tGetHandleVerifier [0x012521B8+2678216]\n\tGetHandleVerifier [0x010417AA+512954]\n\tGetHandleVerifier [0x01040856+509030]\n\tOrdinal0 [0x00F5743B+1799227]\n\tOrdinal0 [0x00F5BB68+1817448]\n\tOrdinal0 [0x00F5BC55+1817685]\n\tOrdinal0 [0x00F65230+1856048]\n\tBaseThreadInitThunk [0x767E6739+25]\n\tRtlGetFullPathName_UEx [0x779490AF+1215]\n\tRtlGetFullPathName_UEx [0x7794907D+1165]\n",
     "output_type": "error",
     "traceback": [
      "\u001b[1;31m---------------------------------------------------------------------------\u001b[0m",
      "\u001b[1;31mNoSuchElementException\u001b[0m                    Traceback (most recent call last)",
      "Input \u001b[1;32mIn [46]\u001b[0m, in \u001b[0;36m<cell line: 1>\u001b[1;34m()\u001b[0m\n\u001b[1;32m----> 1\u001b[0m product\u001b[38;5;241m=\u001b[39m\u001b[43mdriver\u001b[49m\u001b[38;5;241;43m.\u001b[39;49m\u001b[43mfind_element\u001b[49m\u001b[43m(\u001b[49m\u001b[43mBy\u001b[49m\u001b[38;5;241;43m.\u001b[39;49m\u001b[43mCLASS_NAME\u001b[49m\u001b[43m,\u001b[49m\u001b[38;5;124;43m\"\u001b[39;49m\u001b[38;5;124;43m_4rR01T\u001b[39;49m\u001b[38;5;124;43m\"\u001b[39;49m\u001b[43m)\u001b[49m\n\u001b[0;32m      2\u001b[0m product\u001b[38;5;241m.\u001b[39mclick()\n",
      "File \u001b[1;32m~\\anaconda3\\lib\\site-packages\\selenium\\webdriver\\remote\\webdriver.py:856\u001b[0m, in \u001b[0;36mWebDriver.find_element\u001b[1;34m(self, by, value)\u001b[0m\n\u001b[0;32m    853\u001b[0m     by \u001b[38;5;241m=\u001b[39m By\u001b[38;5;241m.\u001b[39mCSS_SELECTOR\n\u001b[0;32m    854\u001b[0m     value \u001b[38;5;241m=\u001b[39m \u001b[38;5;124m'\u001b[39m\u001b[38;5;124m[name=\u001b[39m\u001b[38;5;124m\"\u001b[39m\u001b[38;5;132;01m%s\u001b[39;00m\u001b[38;5;124m\"\u001b[39m\u001b[38;5;124m]\u001b[39m\u001b[38;5;124m'\u001b[39m \u001b[38;5;241m%\u001b[39m value\n\u001b[1;32m--> 856\u001b[0m \u001b[38;5;28;01mreturn\u001b[39;00m \u001b[38;5;28;43mself\u001b[39;49m\u001b[38;5;241;43m.\u001b[39;49m\u001b[43mexecute\u001b[49m\u001b[43m(\u001b[49m\u001b[43mCommand\u001b[49m\u001b[38;5;241;43m.\u001b[39;49m\u001b[43mFIND_ELEMENT\u001b[49m\u001b[43m,\u001b[49m\u001b[43m \u001b[49m\u001b[43m{\u001b[49m\n\u001b[0;32m    857\u001b[0m \u001b[43m    \u001b[49m\u001b[38;5;124;43m'\u001b[39;49m\u001b[38;5;124;43musing\u001b[39;49m\u001b[38;5;124;43m'\u001b[39;49m\u001b[43m:\u001b[49m\u001b[43m \u001b[49m\u001b[43mby\u001b[49m\u001b[43m,\u001b[49m\n\u001b[0;32m    858\u001b[0m \u001b[43m    \u001b[49m\u001b[38;5;124;43m'\u001b[39;49m\u001b[38;5;124;43mvalue\u001b[39;49m\u001b[38;5;124;43m'\u001b[39;49m\u001b[43m:\u001b[49m\u001b[43m \u001b[49m\u001b[43mvalue\u001b[49m\u001b[43m}\u001b[49m\u001b[43m)\u001b[49m[\u001b[38;5;124m'\u001b[39m\u001b[38;5;124mvalue\u001b[39m\u001b[38;5;124m'\u001b[39m]\n",
      "File \u001b[1;32m~\\anaconda3\\lib\\site-packages\\selenium\\webdriver\\remote\\webdriver.py:434\u001b[0m, in \u001b[0;36mWebDriver.execute\u001b[1;34m(self, driver_command, params)\u001b[0m\n\u001b[0;32m    432\u001b[0m response \u001b[38;5;241m=\u001b[39m \u001b[38;5;28mself\u001b[39m\u001b[38;5;241m.\u001b[39mcommand_executor\u001b[38;5;241m.\u001b[39mexecute(driver_command, params)\n\u001b[0;32m    433\u001b[0m \u001b[38;5;28;01mif\u001b[39;00m response:\n\u001b[1;32m--> 434\u001b[0m     \u001b[38;5;28;43mself\u001b[39;49m\u001b[38;5;241;43m.\u001b[39;49m\u001b[43merror_handler\u001b[49m\u001b[38;5;241;43m.\u001b[39;49m\u001b[43mcheck_response\u001b[49m\u001b[43m(\u001b[49m\u001b[43mresponse\u001b[49m\u001b[43m)\u001b[49m\n\u001b[0;32m    435\u001b[0m     response[\u001b[38;5;124m'\u001b[39m\u001b[38;5;124mvalue\u001b[39m\u001b[38;5;124m'\u001b[39m] \u001b[38;5;241m=\u001b[39m \u001b[38;5;28mself\u001b[39m\u001b[38;5;241m.\u001b[39m_unwrap_value(\n\u001b[0;32m    436\u001b[0m         response\u001b[38;5;241m.\u001b[39mget(\u001b[38;5;124m'\u001b[39m\u001b[38;5;124mvalue\u001b[39m\u001b[38;5;124m'\u001b[39m, \u001b[38;5;28;01mNone\u001b[39;00m))\n\u001b[0;32m    437\u001b[0m     \u001b[38;5;28;01mreturn\u001b[39;00m response\n",
      "File \u001b[1;32m~\\anaconda3\\lib\\site-packages\\selenium\\webdriver\\remote\\errorhandler.py:243\u001b[0m, in \u001b[0;36mErrorHandler.check_response\u001b[1;34m(self, response)\u001b[0m\n\u001b[0;32m    241\u001b[0m         alert_text \u001b[38;5;241m=\u001b[39m value[\u001b[38;5;124m'\u001b[39m\u001b[38;5;124malert\u001b[39m\u001b[38;5;124m'\u001b[39m]\u001b[38;5;241m.\u001b[39mget(\u001b[38;5;124m'\u001b[39m\u001b[38;5;124mtext\u001b[39m\u001b[38;5;124m'\u001b[39m)\n\u001b[0;32m    242\u001b[0m     \u001b[38;5;28;01mraise\u001b[39;00m exception_class(message, screen, stacktrace, alert_text)  \u001b[38;5;66;03m# type: ignore[call-arg]  # mypy is not smart enough here\u001b[39;00m\n\u001b[1;32m--> 243\u001b[0m \u001b[38;5;28;01mraise\u001b[39;00m exception_class(message, screen, stacktrace)\n",
      "\u001b[1;31mNoSuchElementException\u001b[0m: Message: no such element: Unable to locate element: {\"method\":\"css selector\",\"selector\":\"._4rR01T\"}\n  (Session info: chrome=104.0.5112.81)\nStacktrace:\nBacktrace:\n\tOrdinal0 [0x00FB78B3+2193587]\n\tOrdinal0 [0x00F50681+1771137]\n\tOrdinal0 [0x00E641A8+803240]\n\tOrdinal0 [0x00E924A0+992416]\n\tOrdinal0 [0x00E9273B+993083]\n\tOrdinal0 [0x00EBF7C2+1177538]\n\tOrdinal0 [0x00EAD7F4+1103860]\n\tOrdinal0 [0x00EBDAE2+1170146]\n\tOrdinal0 [0x00EAD5C6+1103302]\n\tOrdinal0 [0x00E877E0+948192]\n\tOrdinal0 [0x00E886E6+952038]\n\tGetHandleVerifier [0x01260CB2+2738370]\n\tGetHandleVerifier [0x012521B8+2678216]\n\tGetHandleVerifier [0x010417AA+512954]\n\tGetHandleVerifier [0x01040856+509030]\n\tOrdinal0 [0x00F5743B+1799227]\n\tOrdinal0 [0x00F5BB68+1817448]\n\tOrdinal0 [0x00F5BC55+1817685]\n\tOrdinal0 [0x00F65230+1856048]\n\tBaseThreadInitThunk [0x767E6739+25]\n\tRtlGetFullPathName_UEx [0x779490AF+1215]\n\tRtlGetFullPathName_UEx [0x7794907D+1165]\n"
     ]
    }
   ],
   "source": [
    "product=driver.find_element(By.CLASS_NAME,\"_4rR01T\")\n",
    "product.click()"
   ]
  },
  {
   "cell_type": "code",
   "execution_count": 47,
   "id": "61bfbc26",
   "metadata": {},
   "outputs": [],
   "source": [
    "rating=[]\n",
    "review_summary=[]\n",
    "full_review=[]"
   ]
  },
  {
   "cell_type": "code",
   "execution_count": 48,
   "id": "aa298a03",
   "metadata": {},
   "outputs": [],
   "source": [
    "rating_tags=driver.find_elements(By.XPATH,'//div[@class=\"_3LWZlK _1BLPMq\"]')\n",
    "for i in rating_tags[0:5]:\n",
    "    RA=i.text\n",
    "    rating.append(RA)"
   ]
  },
  {
   "cell_type": "code",
   "execution_count": 49,
   "id": "728a6ec9",
   "metadata": {},
   "outputs": [],
   "source": [
    "review_tags=driver.find_elements(By.XPATH,'//p[@class=\"_2-N8zT\"]')\n",
    "for i in review_tags[0:5]:\n",
    "    RE=i.text\n",
    "    review_summary.append(RE)"
   ]
  },
  {
   "cell_type": "code",
   "execution_count": 50,
   "id": "a4041b46",
   "metadata": {},
   "outputs": [],
   "source": [
    "reviewfull_tags=driver.find_elements(By.XPATH,'//div[@class=\"t-ZTKy\"]')\n",
    "for i in reviewfull_tags[0:5]:\n",
    "    RS=i.text\n",
    "    full_review.append(RS)"
   ]
  },
  {
   "cell_type": "code",
   "execution_count": 51,
   "id": "95e4e15e",
   "metadata": {},
   "outputs": [
    {
     "name": "stdout",
     "output_type": "stream",
     "text": [
      "5 5 5\n"
     ]
    }
   ],
   "source": [
    "print(len(rating), len(review_summary),len(full_review))"
   ]
  },
  {
   "cell_type": "code",
   "execution_count": 55,
   "id": "1b5360b6",
   "metadata": {},
   "outputs": [
    {
     "data": {
      "text/html": [
       "<div>\n",
       "<style scoped>\n",
       "    .dataframe tbody tr th:only-of-type {\n",
       "        vertical-align: middle;\n",
       "    }\n",
       "\n",
       "    .dataframe tbody tr th {\n",
       "        vertical-align: top;\n",
       "    }\n",
       "\n",
       "    .dataframe thead th {\n",
       "        text-align: right;\n",
       "    }\n",
       "</style>\n",
       "<table border=\"1\" class=\"dataframe\">\n",
       "  <thead>\n",
       "    <tr style=\"text-align: right;\">\n",
       "      <th></th>\n",
       "      <th>Rating</th>\n",
       "      <th>Review Summary</th>\n",
       "      <th>Full Review</th>\n",
       "    </tr>\n",
       "  </thead>\n",
       "  <tbody>\n",
       "    <tr>\n",
       "      <th>0</th>\n",
       "      <td>4</td>\n",
       "      <td>Good quality product</td>\n",
       "      <td>impressively Nice......\\nOne of the greatest i...</td>\n",
       "    </tr>\n",
       "    <tr>\n",
       "      <th>1</th>\n",
       "      <td>5</td>\n",
       "      <td>Perfect product!</td>\n",
       "      <td>Nice products thanks flkat</td>\n",
       "    </tr>\n",
       "    <tr>\n",
       "      <th>2</th>\n",
       "      <td>5</td>\n",
       "      <td>Simply awesome</td>\n",
       "      <td>Really satisfied with the Product I received.....</td>\n",
       "    </tr>\n",
       "    <tr>\n",
       "      <th>3</th>\n",
       "      <td>5</td>\n",
       "      <td>Simply awesome</td>\n",
       "      <td>Nice product thank you Flipkart ❤️</td>\n",
       "    </tr>\n",
       "    <tr>\n",
       "      <th>4</th>\n",
       "      <td>5</td>\n",
       "      <td>Best phone still @25-27K</td>\n",
       "      <td>Purchased at BBD @2016 Oct. After 5months of u...</td>\n",
       "    </tr>\n",
       "  </tbody>\n",
       "</table>\n",
       "</div>"
      ],
      "text/plain": [
       "  Rating            Review Summary  \\\n",
       "0      4      Good quality product   \n",
       "1      5          Perfect product!   \n",
       "2      5            Simply awesome   \n",
       "3      5            Simply awesome   \n",
       "4      5  Best phone still @25-27K   \n",
       "\n",
       "                                         Full Review  \n",
       "0  impressively Nice......\\nOne of the greatest i...  \n",
       "1                         Nice products thanks flkat  \n",
       "2  Really satisfied with the Product I received.....  \n",
       "3                 Nice product thank you Flipkart ❤️  \n",
       "4  Purchased at BBD @2016 Oct. After 5months of u...  "
      ]
     },
     "execution_count": 55,
     "metadata": {},
     "output_type": "execute_result"
    }
   ],
   "source": [
    "df=pd.DataFrame({'Rating':rating,'Review Summary':review_summary,'Full Review':full_review})\n",
    "df"
   ]
  },
  {
   "cell_type": "markdown",
   "id": "418ffa30",
   "metadata": {},
   "source": [
    "# Q6. Scrape data for first 100 sneakers you find when you visit flipkart.com and search for “sneakers”"
   ]
  },
  {
   "cell_type": "code",
   "execution_count": 56,
   "id": "97937ea7",
   "metadata": {},
   "outputs": [],
   "source": [
    "driver=webdriver.Chrome(r\"chromedriver.exe\")"
   ]
  },
  {
   "cell_type": "code",
   "execution_count": 57,
   "id": "c2b776aa",
   "metadata": {},
   "outputs": [],
   "source": [
    "driver.get(\"https://www.flipkart.com/\")"
   ]
  },
  {
   "cell_type": "code",
   "execution_count": 58,
   "id": "0ceff8d2",
   "metadata": {},
   "outputs": [],
   "source": [
    "cross=driver.find_element(By.XPATH,\"/html/body/div[2]/div/div/button\")\n",
    "cross.click()"
   ]
  },
  {
   "cell_type": "code",
   "execution_count": 59,
   "id": "bb2c3c5f",
   "metadata": {},
   "outputs": [],
   "source": [
    "product=driver.find_element(By.XPATH,\"/html/body/div[1]/div/div[1]/div[1]/div[2]/div[2]/form/div/div/input\")\n",
    "product.send_keys('Sneakers')"
   ]
  },
  {
   "cell_type": "code",
   "execution_count": 60,
   "id": "5374c962",
   "metadata": {},
   "outputs": [],
   "source": [
    "search=driver.find_element(By.CLASS_NAME,\"L0Z3Pu\")\n",
    "search.click()"
   ]
  },
  {
   "cell_type": "code",
   "execution_count": 61,
   "id": "f8323be7",
   "metadata": {},
   "outputs": [],
   "source": [
    "brand=[]\n",
    "price=[]\n",
    "product_description=[]"
   ]
  },
  {
   "cell_type": "code",
   "execution_count": 62,
   "id": "833bb0a2",
   "metadata": {},
   "outputs": [],
   "source": [
    "brand_tags=driver.find_elements(By.XPATH,'//div[@class=\"_2WkVRV\"]')\n",
    "for i in brand_tags[0:100]:\n",
    "    bd=i.text\n",
    "    brand.append(bd)"
   ]
  },
  {
   "cell_type": "code",
   "execution_count": 63,
   "id": "b294bf13",
   "metadata": {},
   "outputs": [],
   "source": [
    "price_tags=driver.find_elements(By.XPATH,'//div[@class=\"_30jeq3\"]')\n",
    "for i in price_tags[0:100]:\n",
    "    PR=i.text\n",
    "    price.append(PR)"
   ]
  },
  {
   "cell_type": "code",
   "execution_count": 64,
   "id": "45973005",
   "metadata": {},
   "outputs": [],
   "source": [
    "product_tags=driver.find_elements(By.XPATH,'//a[@class=\"IRpwTa _2-ICcC\"]')\n",
    "for i in product_tags[0:100]:\n",
    "    PD=i.text\n",
    "    product_description.append(PD)"
   ]
  },
  {
   "cell_type": "code",
   "execution_count": 65,
   "id": "c011f3af",
   "metadata": {},
   "outputs": [
    {
     "name": "stdout",
     "output_type": "stream",
     "text": [
      "40 40 9\n"
     ]
    }
   ],
   "source": [
    "print(len(brand),len(price),len(product_description))"
   ]
  },
  {
   "cell_type": "code",
   "execution_count": 66,
   "id": "0cb0265f",
   "metadata": {},
   "outputs": [
    {
     "ename": "ValueError",
     "evalue": "All arrays must be of the same length",
     "output_type": "error",
     "traceback": [
      "\u001b[1;31m---------------------------------------------------------------------------\u001b[0m",
      "\u001b[1;31mValueError\u001b[0m                                Traceback (most recent call last)",
      "Input \u001b[1;32mIn [66]\u001b[0m, in \u001b[0;36m<cell line: 1>\u001b[1;34m()\u001b[0m\n\u001b[1;32m----> 1\u001b[0m df\u001b[38;5;241m=\u001b[39m\u001b[43mpd\u001b[49m\u001b[38;5;241;43m.\u001b[39;49m\u001b[43mDataFrame\u001b[49m\u001b[43m(\u001b[49m\u001b[43m{\u001b[49m\u001b[38;5;124;43m'\u001b[39;49m\u001b[38;5;124;43mBrand\u001b[39;49m\u001b[38;5;124;43m'\u001b[39;49m\u001b[43m:\u001b[49m\u001b[43mbrand\u001b[49m\u001b[43m,\u001b[49m\u001b[38;5;124;43m\"\u001b[39;49m\u001b[38;5;124;43mPrice\u001b[39;49m\u001b[38;5;124;43m\"\u001b[39;49m\u001b[43m:\u001b[49m\u001b[43mprice\u001b[49m\u001b[43m,\u001b[49m\u001b[43m \u001b[49m\u001b[38;5;124;43m\"\u001b[39;49m\u001b[38;5;124;43mProduct Description\u001b[39;49m\u001b[38;5;124;43m\"\u001b[39;49m\u001b[43m:\u001b[49m\u001b[43mproduct_description\u001b[49m\u001b[43m}\u001b[49m\u001b[43m)\u001b[49m\n",
      "File \u001b[1;32m~\\anaconda3\\lib\\site-packages\\pandas\\core\\frame.py:636\u001b[0m, in \u001b[0;36mDataFrame.__init__\u001b[1;34m(self, data, index, columns, dtype, copy)\u001b[0m\n\u001b[0;32m    630\u001b[0m     mgr \u001b[38;5;241m=\u001b[39m \u001b[38;5;28mself\u001b[39m\u001b[38;5;241m.\u001b[39m_init_mgr(\n\u001b[0;32m    631\u001b[0m         data, axes\u001b[38;5;241m=\u001b[39m{\u001b[38;5;124m\"\u001b[39m\u001b[38;5;124mindex\u001b[39m\u001b[38;5;124m\"\u001b[39m: index, \u001b[38;5;124m\"\u001b[39m\u001b[38;5;124mcolumns\u001b[39m\u001b[38;5;124m\"\u001b[39m: columns}, dtype\u001b[38;5;241m=\u001b[39mdtype, copy\u001b[38;5;241m=\u001b[39mcopy\n\u001b[0;32m    632\u001b[0m     )\n\u001b[0;32m    634\u001b[0m \u001b[38;5;28;01melif\u001b[39;00m \u001b[38;5;28misinstance\u001b[39m(data, \u001b[38;5;28mdict\u001b[39m):\n\u001b[0;32m    635\u001b[0m     \u001b[38;5;66;03m# GH#38939 de facto copy defaults to False only in non-dict cases\u001b[39;00m\n\u001b[1;32m--> 636\u001b[0m     mgr \u001b[38;5;241m=\u001b[39m \u001b[43mdict_to_mgr\u001b[49m\u001b[43m(\u001b[49m\u001b[43mdata\u001b[49m\u001b[43m,\u001b[49m\u001b[43m \u001b[49m\u001b[43mindex\u001b[49m\u001b[43m,\u001b[49m\u001b[43m \u001b[49m\u001b[43mcolumns\u001b[49m\u001b[43m,\u001b[49m\u001b[43m \u001b[49m\u001b[43mdtype\u001b[49m\u001b[38;5;241;43m=\u001b[39;49m\u001b[43mdtype\u001b[49m\u001b[43m,\u001b[49m\u001b[43m \u001b[49m\u001b[43mcopy\u001b[49m\u001b[38;5;241;43m=\u001b[39;49m\u001b[43mcopy\u001b[49m\u001b[43m,\u001b[49m\u001b[43m \u001b[49m\u001b[43mtyp\u001b[49m\u001b[38;5;241;43m=\u001b[39;49m\u001b[43mmanager\u001b[49m\u001b[43m)\u001b[49m\n\u001b[0;32m    637\u001b[0m \u001b[38;5;28;01melif\u001b[39;00m \u001b[38;5;28misinstance\u001b[39m(data, ma\u001b[38;5;241m.\u001b[39mMaskedArray):\n\u001b[0;32m    638\u001b[0m     \u001b[38;5;28;01mimport\u001b[39;00m \u001b[38;5;21;01mnumpy\u001b[39;00m\u001b[38;5;21;01m.\u001b[39;00m\u001b[38;5;21;01mma\u001b[39;00m\u001b[38;5;21;01m.\u001b[39;00m\u001b[38;5;21;01mmrecords\u001b[39;00m \u001b[38;5;28;01mas\u001b[39;00m \u001b[38;5;21;01mmrecords\u001b[39;00m\n",
      "File \u001b[1;32m~\\anaconda3\\lib\\site-packages\\pandas\\core\\internals\\construction.py:502\u001b[0m, in \u001b[0;36mdict_to_mgr\u001b[1;34m(data, index, columns, dtype, typ, copy)\u001b[0m\n\u001b[0;32m    494\u001b[0m     arrays \u001b[38;5;241m=\u001b[39m [\n\u001b[0;32m    495\u001b[0m         x\n\u001b[0;32m    496\u001b[0m         \u001b[38;5;28;01mif\u001b[39;00m \u001b[38;5;129;01mnot\u001b[39;00m \u001b[38;5;28mhasattr\u001b[39m(x, \u001b[38;5;124m\"\u001b[39m\u001b[38;5;124mdtype\u001b[39m\u001b[38;5;124m\"\u001b[39m) \u001b[38;5;129;01mor\u001b[39;00m \u001b[38;5;129;01mnot\u001b[39;00m \u001b[38;5;28misinstance\u001b[39m(x\u001b[38;5;241m.\u001b[39mdtype, ExtensionDtype)\n\u001b[0;32m    497\u001b[0m         \u001b[38;5;28;01melse\u001b[39;00m x\u001b[38;5;241m.\u001b[39mcopy()\n\u001b[0;32m    498\u001b[0m         \u001b[38;5;28;01mfor\u001b[39;00m x \u001b[38;5;129;01min\u001b[39;00m arrays\n\u001b[0;32m    499\u001b[0m     ]\n\u001b[0;32m    500\u001b[0m     \u001b[38;5;66;03m# TODO: can we get rid of the dt64tz special case above?\u001b[39;00m\n\u001b[1;32m--> 502\u001b[0m \u001b[38;5;28;01mreturn\u001b[39;00m \u001b[43marrays_to_mgr\u001b[49m\u001b[43m(\u001b[49m\u001b[43marrays\u001b[49m\u001b[43m,\u001b[49m\u001b[43m \u001b[49m\u001b[43mcolumns\u001b[49m\u001b[43m,\u001b[49m\u001b[43m \u001b[49m\u001b[43mindex\u001b[49m\u001b[43m,\u001b[49m\u001b[43m \u001b[49m\u001b[43mdtype\u001b[49m\u001b[38;5;241;43m=\u001b[39;49m\u001b[43mdtype\u001b[49m\u001b[43m,\u001b[49m\u001b[43m \u001b[49m\u001b[43mtyp\u001b[49m\u001b[38;5;241;43m=\u001b[39;49m\u001b[43mtyp\u001b[49m\u001b[43m,\u001b[49m\u001b[43m \u001b[49m\u001b[43mconsolidate\u001b[49m\u001b[38;5;241;43m=\u001b[39;49m\u001b[43mcopy\u001b[49m\u001b[43m)\u001b[49m\n",
      "File \u001b[1;32m~\\anaconda3\\lib\\site-packages\\pandas\\core\\internals\\construction.py:120\u001b[0m, in \u001b[0;36marrays_to_mgr\u001b[1;34m(arrays, columns, index, dtype, verify_integrity, typ, consolidate)\u001b[0m\n\u001b[0;32m    117\u001b[0m \u001b[38;5;28;01mif\u001b[39;00m verify_integrity:\n\u001b[0;32m    118\u001b[0m     \u001b[38;5;66;03m# figure out the index, if necessary\u001b[39;00m\n\u001b[0;32m    119\u001b[0m     \u001b[38;5;28;01mif\u001b[39;00m index \u001b[38;5;129;01mis\u001b[39;00m \u001b[38;5;28;01mNone\u001b[39;00m:\n\u001b[1;32m--> 120\u001b[0m         index \u001b[38;5;241m=\u001b[39m \u001b[43m_extract_index\u001b[49m\u001b[43m(\u001b[49m\u001b[43marrays\u001b[49m\u001b[43m)\u001b[49m\n\u001b[0;32m    121\u001b[0m     \u001b[38;5;28;01melse\u001b[39;00m:\n\u001b[0;32m    122\u001b[0m         index \u001b[38;5;241m=\u001b[39m ensure_index(index)\n",
      "File \u001b[1;32m~\\anaconda3\\lib\\site-packages\\pandas\\core\\internals\\construction.py:674\u001b[0m, in \u001b[0;36m_extract_index\u001b[1;34m(data)\u001b[0m\n\u001b[0;32m    672\u001b[0m lengths \u001b[38;5;241m=\u001b[39m \u001b[38;5;28mlist\u001b[39m(\u001b[38;5;28mset\u001b[39m(raw_lengths))\n\u001b[0;32m    673\u001b[0m \u001b[38;5;28;01mif\u001b[39;00m \u001b[38;5;28mlen\u001b[39m(lengths) \u001b[38;5;241m>\u001b[39m \u001b[38;5;241m1\u001b[39m:\n\u001b[1;32m--> 674\u001b[0m     \u001b[38;5;28;01mraise\u001b[39;00m \u001b[38;5;167;01mValueError\u001b[39;00m(\u001b[38;5;124m\"\u001b[39m\u001b[38;5;124mAll arrays must be of the same length\u001b[39m\u001b[38;5;124m\"\u001b[39m)\n\u001b[0;32m    676\u001b[0m \u001b[38;5;28;01mif\u001b[39;00m have_dicts:\n\u001b[0;32m    677\u001b[0m     \u001b[38;5;28;01mraise\u001b[39;00m \u001b[38;5;167;01mValueError\u001b[39;00m(\n\u001b[0;32m    678\u001b[0m         \u001b[38;5;124m\"\u001b[39m\u001b[38;5;124mMixing dicts with non-Series may lead to ambiguous ordering.\u001b[39m\u001b[38;5;124m\"\u001b[39m\n\u001b[0;32m    679\u001b[0m     )\n",
      "\u001b[1;31mValueError\u001b[0m: All arrays must be of the same length"
     ]
    }
   ],
   "source": [
    "df=pd.DataFrame({'Brand':brand,\"Price\":price, \"Product Description\":product_description})"
   ]
  },
  {
   "cell_type": "code",
   "execution_count": null,
   "id": "74a6673e",
   "metadata": {},
   "outputs": [],
   "source": [
    "df"
   ]
  },
  {
   "cell_type": "markdown",
   "id": "ba9cb711",
   "metadata": {},
   "source": [
    "# Q7. Scraping the first 100 shoes data"
   ]
  },
  {
   "cell_type": "code",
   "execution_count": 67,
   "id": "50d7a45a",
   "metadata": {},
   "outputs": [],
   "source": [
    "driver=webdriver.Chrome(r\"chromedriver.exe\")"
   ]
  },
  {
   "cell_type": "code",
   "execution_count": 68,
   "id": "0bc0a47b",
   "metadata": {},
   "outputs": [],
   "source": [
    "driver.get(\"https://www.myntra.com/shoes\")"
   ]
  },
  {
   "cell_type": "code",
   "execution_count": 69,
   "id": "294250fa",
   "metadata": {},
   "outputs": [],
   "source": [
    "price=driver.find_element(By.XPATH,\"/html/body/div[2]/div/div[1]/main/div[3]/div[1]/section/div/div[5]/ul/li[2]/label\")\n",
    "price.click()"
   ]
  },
  {
   "cell_type": "code",
   "execution_count": 70,
   "id": "af87d40e",
   "metadata": {},
   "outputs": [],
   "source": [
    "colour=driver.find_element(By.XPATH,\"/html/body/div[2]/div/div[1]/main/div[3]/div[1]/section/div/div[6]/ul/li[1]/label/span[1]\")\n",
    "colour.click()"
   ]
  },
  {
   "cell_type": "code",
   "execution_count": 71,
   "id": "654eec2e",
   "metadata": {},
   "outputs": [],
   "source": [
    "brand=[]\n",
    "price=[]\n",
    "product_description=[]"
   ]
  },
  {
   "cell_type": "code",
   "execution_count": 72,
   "id": "2138f11e",
   "metadata": {},
   "outputs": [],
   "source": [
    "brand_tags=driver.find_elements(By.XPATH,'//h3[@class=\"product-brand\"]')\n",
    "for i in brand_tags[0:100]:\n",
    "    bd=i.text\n",
    "    brand.append(bd)"
   ]
  },
  {
   "cell_type": "code",
   "execution_count": 73,
   "id": "4f5b9ef2",
   "metadata": {},
   "outputs": [],
   "source": [
    "price_tags=driver.find_elements(By.XPATH,'//div[@class=\"product-price\"]')\n",
    "for i in price_tags[0:100]:\n",
    "    PR=i.text\n",
    "    price.append(PR)"
   ]
  },
  {
   "cell_type": "code",
   "execution_count": 74,
   "id": "a72f30c1",
   "metadata": {},
   "outputs": [],
   "source": [
    "product_tags=driver.find_elements(By.XPATH,'//h4[@class=\"product-product\"]')\n",
    "for i in product_tags[0:100]:\n",
    "    PD=i.text\n",
    "    product_description.append(PD)"
   ]
  },
  {
   "cell_type": "code",
   "execution_count": 75,
   "id": "a58b5297",
   "metadata": {},
   "outputs": [
    {
     "name": "stdout",
     "output_type": "stream",
     "text": [
      "50 50 50\n"
     ]
    }
   ],
   "source": [
    "print(len(brand),len(price),len(product_description))"
   ]
  },
  {
   "cell_type": "code",
   "execution_count": 79,
   "id": "38d0100b",
   "metadata": {},
   "outputs": [
    {
     "data": {
      "text/html": [
       "<div>\n",
       "<style scoped>\n",
       "    .dataframe tbody tr th:only-of-type {\n",
       "        vertical-align: middle;\n",
       "    }\n",
       "\n",
       "    .dataframe tbody tr th {\n",
       "        vertical-align: top;\n",
       "    }\n",
       "\n",
       "    .dataframe thead th {\n",
       "        text-align: right;\n",
       "    }\n",
       "</style>\n",
       "<table border=\"1\" class=\"dataframe\">\n",
       "  <thead>\n",
       "    <tr style=\"text-align: right;\">\n",
       "      <th></th>\n",
       "      <th>Brand</th>\n",
       "      <th>Price</th>\n",
       "      <th>Product Description</th>\n",
       "    </tr>\n",
       "  </thead>\n",
       "  <tbody>\n",
       "    <tr>\n",
       "      <th>0</th>\n",
       "      <td>Nike</td>\n",
       "      <td>Rs. 7465Rs. 8295(10% OFF)</td>\n",
       "      <td>Men ZOOM WINFLO8 Running Shoes</td>\n",
       "    </tr>\n",
       "    <tr>\n",
       "      <th>1</th>\n",
       "      <td>Skechers</td>\n",
       "      <td>Rs. 7199Rs. 8999(20% OFF)</td>\n",
       "      <td>Men Max Cushioning Running</td>\n",
       "    </tr>\n",
       "    <tr>\n",
       "      <th>2</th>\n",
       "      <td>Nike</td>\n",
       "      <td>Rs. 11895Rs. 13995(15% OFF)</td>\n",
       "      <td>Men React Infinity 3 Running</td>\n",
       "    </tr>\n",
       "    <tr>\n",
       "      <th>3</th>\n",
       "      <td>Nike</td>\n",
       "      <td>Rs. 9715Rs. 10795(10% OFF)</td>\n",
       "      <td>Men Colourblocked Sneakers</td>\n",
       "    </tr>\n",
       "    <tr>\n",
       "      <th>4</th>\n",
       "      <td>ADIDAS</td>\n",
       "      <td>Rs. 9999</td>\n",
       "      <td>Men Supernova 2 Running Shoes</td>\n",
       "    </tr>\n",
       "    <tr>\n",
       "      <th>5</th>\n",
       "      <td>ADIDAS</td>\n",
       "      <td>Rs. 6719Rs. 13999(52% OFF)</td>\n",
       "      <td>Women X9000 H.RDY Running</td>\n",
       "    </tr>\n",
       "    <tr>\n",
       "      <th>6</th>\n",
       "      <td>UNDER ARMOUR</td>\n",
       "      <td>Rs. 9999</td>\n",
       "      <td>Men HOVR Sonic SE Running Shoe</td>\n",
       "    </tr>\n",
       "    <tr>\n",
       "      <th>7</th>\n",
       "      <td>ADIDAS</td>\n",
       "      <td>Rs. 9999</td>\n",
       "      <td>Women Supernova Running Shoes</td>\n",
       "    </tr>\n",
       "    <tr>\n",
       "      <th>8</th>\n",
       "      <td>UNDER ARMOUR</td>\n",
       "      <td>Rs. 7649Rs. 8999(15% OFF)</td>\n",
       "      <td>Men Charged Breeze Running</td>\n",
       "    </tr>\n",
       "    <tr>\n",
       "      <th>9</th>\n",
       "      <td>Nike</td>\n",
       "      <td>Rs. 11515Rs. 12795(10% OFF)</td>\n",
       "      <td>Men JORDAN LOW Basketball Shoe</td>\n",
       "    </tr>\n",
       "    <tr>\n",
       "      <th>10</th>\n",
       "      <td>Skechers</td>\n",
       "      <td>Rs. 7199Rs. 8999(20% OFF)</td>\n",
       "      <td>Men Max Cushioning Running</td>\n",
       "    </tr>\n",
       "    <tr>\n",
       "      <th>11</th>\n",
       "      <td>GABICCI</td>\n",
       "      <td>Rs. 7450</td>\n",
       "      <td>Men Textured Leather Loafers</td>\n",
       "    </tr>\n",
       "    <tr>\n",
       "      <th>12</th>\n",
       "      <td>Nike</td>\n",
       "      <td>Rs. 7050Rs. 8295(15% OFF)</td>\n",
       "      <td>Women WINFLO 8 Running Shoes</td>\n",
       "    </tr>\n",
       "    <tr>\n",
       "      <th>13</th>\n",
       "      <td>ROSSO BRUNELLO</td>\n",
       "      <td>Rs. 12999</td>\n",
       "      <td>Men Printed Leather Monks</td>\n",
       "    </tr>\n",
       "    <tr>\n",
       "      <th>14</th>\n",
       "      <td>Puma</td>\n",
       "      <td>Rs. 9749Rs. 12999(25% OFF)</td>\n",
       "      <td>Eternity Nitro Running Shoes</td>\n",
       "    </tr>\n",
       "    <tr>\n",
       "      <th>15</th>\n",
       "      <td>UNDER ARMOUR</td>\n",
       "      <td>Rs. 10999</td>\n",
       "      <td>Unisex Curry Basketball Shoes</td>\n",
       "    </tr>\n",
       "    <tr>\n",
       "      <th>16</th>\n",
       "      <td>ADIDAS</td>\n",
       "      <td>Rs. 11999Rs. 14999(20% OFF)</td>\n",
       "      <td>Men Solar Glide 4 ST Running</td>\n",
       "    </tr>\n",
       "    <tr>\n",
       "      <th>17</th>\n",
       "      <td>ASICS</td>\n",
       "      <td>Rs. 7999Rs. 9999(20% OFF)</td>\n",
       "      <td>Men GEL-CUMULUS 23 MK Running</td>\n",
       "    </tr>\n",
       "    <tr>\n",
       "      <th>18</th>\n",
       "      <td>ADIDAS</td>\n",
       "      <td>Rs. 9999</td>\n",
       "      <td>Men Defiant Generation Tennis</td>\n",
       "    </tr>\n",
       "    <tr>\n",
       "      <th>19</th>\n",
       "      <td>ADIDAS Originals</td>\n",
       "      <td>Rs. 10999</td>\n",
       "      <td>Men Niteball II Sneakers</td>\n",
       "    </tr>\n",
       "    <tr>\n",
       "      <th>20</th>\n",
       "      <td>Nike</td>\n",
       "      <td>Rs. 7465Rs. 8295(10% OFF)</td>\n",
       "      <td>Unisex Lebron V Basketball</td>\n",
       "    </tr>\n",
       "    <tr>\n",
       "      <th>21</th>\n",
       "      <td>Nike</td>\n",
       "      <td>Rs. 7915Rs. 8795(10% OFF)</td>\n",
       "      <td>Air Max Axis Sneakers</td>\n",
       "    </tr>\n",
       "    <tr>\n",
       "      <th>22</th>\n",
       "      <td>Puma</td>\n",
       "      <td>Rs. 10499Rs. 14999(30% OFF)</td>\n",
       "      <td>Men Deviate Nitro Shoes</td>\n",
       "    </tr>\n",
       "    <tr>\n",
       "      <th>23</th>\n",
       "      <td>Nike</td>\n",
       "      <td>Rs. 7465Rs. 8295(10% OFF)</td>\n",
       "      <td>Women Running Shoes</td>\n",
       "    </tr>\n",
       "    <tr>\n",
       "      <th>24</th>\n",
       "      <td>Puma</td>\n",
       "      <td>Rs. 9099Rs. 12999(30% OFF)</td>\n",
       "      <td>Men M Nitro Running Shoess</td>\n",
       "    </tr>\n",
       "    <tr>\n",
       "      <th>25</th>\n",
       "      <td>Hush Puppies</td>\n",
       "      <td>Rs. 7649Rs. 8999(15% OFF)</td>\n",
       "      <td>Men Solid Leather Formal Slip-Ons</td>\n",
       "    </tr>\n",
       "    <tr>\n",
       "      <th>26</th>\n",
       "      <td>Puma</td>\n",
       "      <td>Rs. 6749Rs. 8999(25% OFF)</td>\n",
       "      <td>Unisex Wild Rider Sneakers</td>\n",
       "    </tr>\n",
       "    <tr>\n",
       "      <th>27</th>\n",
       "      <td>Nike</td>\n",
       "      <td>Rs. 8005Rs. 8895(10% OFF)</td>\n",
       "      <td>Men SRG 3 FK Training Shoes</td>\n",
       "    </tr>\n",
       "    <tr>\n",
       "      <th>28</th>\n",
       "      <td>Puma</td>\n",
       "      <td>Rs. 6999Rs. 9999(30% OFF)</td>\n",
       "      <td>Women Liberate NITRO Running</td>\n",
       "    </tr>\n",
       "    <tr>\n",
       "      <th>29</th>\n",
       "      <td>ADIDAS Originals</td>\n",
       "      <td>Rs. 11999</td>\n",
       "      <td>Men Solid Oznova Sneakers</td>\n",
       "    </tr>\n",
       "    <tr>\n",
       "      <th>30</th>\n",
       "      <td>PUMA Hoops</td>\n",
       "      <td>Rs. 8249Rs. 10999(25% OFF)</td>\n",
       "      <td>Fives Blaze Court Basketball</td>\n",
       "    </tr>\n",
       "    <tr>\n",
       "      <th>31</th>\n",
       "      <td>Hush Puppies</td>\n",
       "      <td>Rs. 8499Rs. 9999(15% OFF)</td>\n",
       "      <td>Men Solid Leather Formal Slip-Ons</td>\n",
       "    </tr>\n",
       "    <tr>\n",
       "      <th>32</th>\n",
       "      <td>ADIDAS</td>\n",
       "      <td>Rs. 7999</td>\n",
       "      <td>Women Eastrail 2 Hiking Shoes</td>\n",
       "    </tr>\n",
       "    <tr>\n",
       "      <th>33</th>\n",
       "      <td>Nike</td>\n",
       "      <td>Rs. 9445Rs. 10495(10% OFF)</td>\n",
       "      <td>Men REACT MILER 3 Running Shoe</td>\n",
       "    </tr>\n",
       "    <tr>\n",
       "      <th>34</th>\n",
       "      <td>ADIDAS Originals</td>\n",
       "      <td>Rs. 11049Rs. 12999(15% OFF)</td>\n",
       "      <td>Men Ozrah Leather Sneakers</td>\n",
       "    </tr>\n",
       "    <tr>\n",
       "      <th>35</th>\n",
       "      <td>Puma</td>\n",
       "      <td>Rs. 7199Rs. 11999(40% OFF)</td>\n",
       "      <td>Men KING Top Football Shoes</td>\n",
       "    </tr>\n",
       "    <tr>\n",
       "      <th>36</th>\n",
       "      <td>Nike</td>\n",
       "      <td>Rs. 7465Rs. 8295(10% OFF)</td>\n",
       "      <td>Men Air Max Sneakers</td>\n",
       "    </tr>\n",
       "    <tr>\n",
       "      <th>37</th>\n",
       "      <td>Puma</td>\n",
       "      <td>Rs. 10999</td>\n",
       "      <td>Men Velocity Nitro 2 Running</td>\n",
       "    </tr>\n",
       "    <tr>\n",
       "      <th>38</th>\n",
       "      <td>ASICS</td>\n",
       "      <td>Rs. 8399Rs. 13999(40% OFF)</td>\n",
       "      <td>Men GEL-Quantum 360 6 Sports</td>\n",
       "    </tr>\n",
       "    <tr>\n",
       "      <th>39</th>\n",
       "      <td>Skechers</td>\n",
       "      <td>Rs. 7124Rs. 9499(25% OFF)</td>\n",
       "      <td>Men ENIGMA Running Shoes</td>\n",
       "    </tr>\n",
       "    <tr>\n",
       "      <th>40</th>\n",
       "      <td>Puma</td>\n",
       "      <td>Rs. 7999Rs. 9999(20% OFF)</td>\n",
       "      <td>Women Run XX Nitro Running</td>\n",
       "    </tr>\n",
       "    <tr>\n",
       "      <th>41</th>\n",
       "      <td>Tommy Hilfiger</td>\n",
       "      <td>Rs. 6799Rs. 7999(15% OFF)</td>\n",
       "      <td>Men Sneakers</td>\n",
       "    </tr>\n",
       "    <tr>\n",
       "      <th>42</th>\n",
       "      <td>UNDER ARMOUR</td>\n",
       "      <td>Rs. 6999</td>\n",
       "      <td>Men Lockdown 5 Basketball</td>\n",
       "    </tr>\n",
       "    <tr>\n",
       "      <th>43</th>\n",
       "      <td>ROSSO BRUNELLO</td>\n",
       "      <td>Rs. 8999</td>\n",
       "      <td>Men Leather Loafers</td>\n",
       "    </tr>\n",
       "    <tr>\n",
       "      <th>44</th>\n",
       "      <td>ADIDAS</td>\n",
       "      <td>Rs. 10199Rs. 11999(15% OFF)</td>\n",
       "      <td>Men Adizero Adios 7 Running</td>\n",
       "    </tr>\n",
       "    <tr>\n",
       "      <th>45</th>\n",
       "      <td>Clarks</td>\n",
       "      <td>Rs. 7899Rs. 9999(21% OFF)</td>\n",
       "      <td>Men Leather Slip-Ons</td>\n",
       "    </tr>\n",
       "    <tr>\n",
       "      <th>46</th>\n",
       "      <td>ADIDAS</td>\n",
       "      <td>Rs. 12999</td>\n",
       "      <td>Men Dropset Training Shoes</td>\n",
       "    </tr>\n",
       "    <tr>\n",
       "      <th>47</th>\n",
       "      <td>ADIDAS Originals</td>\n",
       "      <td>Rs. 9999</td>\n",
       "      <td>Men Retropy F90 Sneakers</td>\n",
       "    </tr>\n",
       "    <tr>\n",
       "      <th>48</th>\n",
       "      <td>Puma</td>\n",
       "      <td>Rs. 7199Rs. 8999(20% OFF)</td>\n",
       "      <td>Unisex Accelerate Badminton</td>\n",
       "    </tr>\n",
       "    <tr>\n",
       "      <th>49</th>\n",
       "      <td>Puma</td>\n",
       "      <td>Rs. 7199Rs. 8999(20% OFF)</td>\n",
       "      <td>Unisex Eliminate Pro II Shoes</td>\n",
       "    </tr>\n",
       "  </tbody>\n",
       "</table>\n",
       "</div>"
      ],
      "text/plain": [
       "               Brand                        Price  \\\n",
       "0               Nike    Rs. 7465Rs. 8295(10% OFF)   \n",
       "1           Skechers    Rs. 7199Rs. 8999(20% OFF)   \n",
       "2               Nike  Rs. 11895Rs. 13995(15% OFF)   \n",
       "3               Nike   Rs. 9715Rs. 10795(10% OFF)   \n",
       "4             ADIDAS                     Rs. 9999   \n",
       "5             ADIDAS   Rs. 6719Rs. 13999(52% OFF)   \n",
       "6       UNDER ARMOUR                     Rs. 9999   \n",
       "7             ADIDAS                     Rs. 9999   \n",
       "8       UNDER ARMOUR    Rs. 7649Rs. 8999(15% OFF)   \n",
       "9               Nike  Rs. 11515Rs. 12795(10% OFF)   \n",
       "10          Skechers    Rs. 7199Rs. 8999(20% OFF)   \n",
       "11           GABICCI                     Rs. 7450   \n",
       "12              Nike    Rs. 7050Rs. 8295(15% OFF)   \n",
       "13    ROSSO BRUNELLO                    Rs. 12999   \n",
       "14              Puma   Rs. 9749Rs. 12999(25% OFF)   \n",
       "15      UNDER ARMOUR                    Rs. 10999   \n",
       "16            ADIDAS  Rs. 11999Rs. 14999(20% OFF)   \n",
       "17             ASICS    Rs. 7999Rs. 9999(20% OFF)   \n",
       "18            ADIDAS                     Rs. 9999   \n",
       "19  ADIDAS Originals                    Rs. 10999   \n",
       "20              Nike    Rs. 7465Rs. 8295(10% OFF)   \n",
       "21              Nike    Rs. 7915Rs. 8795(10% OFF)   \n",
       "22              Puma  Rs. 10499Rs. 14999(30% OFF)   \n",
       "23              Nike    Rs. 7465Rs. 8295(10% OFF)   \n",
       "24              Puma   Rs. 9099Rs. 12999(30% OFF)   \n",
       "25      Hush Puppies    Rs. 7649Rs. 8999(15% OFF)   \n",
       "26              Puma    Rs. 6749Rs. 8999(25% OFF)   \n",
       "27              Nike    Rs. 8005Rs. 8895(10% OFF)   \n",
       "28              Puma    Rs. 6999Rs. 9999(30% OFF)   \n",
       "29  ADIDAS Originals                    Rs. 11999   \n",
       "30        PUMA Hoops   Rs. 8249Rs. 10999(25% OFF)   \n",
       "31      Hush Puppies    Rs. 8499Rs. 9999(15% OFF)   \n",
       "32            ADIDAS                     Rs. 7999   \n",
       "33              Nike   Rs. 9445Rs. 10495(10% OFF)   \n",
       "34  ADIDAS Originals  Rs. 11049Rs. 12999(15% OFF)   \n",
       "35              Puma   Rs. 7199Rs. 11999(40% OFF)   \n",
       "36              Nike    Rs. 7465Rs. 8295(10% OFF)   \n",
       "37              Puma                    Rs. 10999   \n",
       "38             ASICS   Rs. 8399Rs. 13999(40% OFF)   \n",
       "39          Skechers    Rs. 7124Rs. 9499(25% OFF)   \n",
       "40              Puma    Rs. 7999Rs. 9999(20% OFF)   \n",
       "41    Tommy Hilfiger    Rs. 6799Rs. 7999(15% OFF)   \n",
       "42      UNDER ARMOUR                     Rs. 6999   \n",
       "43    ROSSO BRUNELLO                     Rs. 8999   \n",
       "44            ADIDAS  Rs. 10199Rs. 11999(15% OFF)   \n",
       "45            Clarks    Rs. 7899Rs. 9999(21% OFF)   \n",
       "46            ADIDAS                    Rs. 12999   \n",
       "47  ADIDAS Originals                     Rs. 9999   \n",
       "48              Puma    Rs. 7199Rs. 8999(20% OFF)   \n",
       "49              Puma    Rs. 7199Rs. 8999(20% OFF)   \n",
       "\n",
       "                  Product Description  \n",
       "0      Men ZOOM WINFLO8 Running Shoes  \n",
       "1          Men Max Cushioning Running  \n",
       "2        Men React Infinity 3 Running  \n",
       "3          Men Colourblocked Sneakers  \n",
       "4       Men Supernova 2 Running Shoes  \n",
       "5           Women X9000 H.RDY Running  \n",
       "6      Men HOVR Sonic SE Running Shoe  \n",
       "7       Women Supernova Running Shoes  \n",
       "8          Men Charged Breeze Running  \n",
       "9      Men JORDAN LOW Basketball Shoe  \n",
       "10         Men Max Cushioning Running  \n",
       "11       Men Textured Leather Loafers  \n",
       "12       Women WINFLO 8 Running Shoes  \n",
       "13          Men Printed Leather Monks  \n",
       "14       Eternity Nitro Running Shoes  \n",
       "15      Unisex Curry Basketball Shoes  \n",
       "16       Men Solar Glide 4 ST Running  \n",
       "17      Men GEL-CUMULUS 23 MK Running  \n",
       "18      Men Defiant Generation Tennis  \n",
       "19           Men Niteball II Sneakers  \n",
       "20         Unisex Lebron V Basketball  \n",
       "21              Air Max Axis Sneakers  \n",
       "22            Men Deviate Nitro Shoes  \n",
       "23                Women Running Shoes  \n",
       "24         Men M Nitro Running Shoess  \n",
       "25  Men Solid Leather Formal Slip-Ons  \n",
       "26         Unisex Wild Rider Sneakers  \n",
       "27        Men SRG 3 FK Training Shoes  \n",
       "28       Women Liberate NITRO Running  \n",
       "29          Men Solid Oznova Sneakers  \n",
       "30       Fives Blaze Court Basketball  \n",
       "31  Men Solid Leather Formal Slip-Ons  \n",
       "32      Women Eastrail 2 Hiking Shoes  \n",
       "33     Men REACT MILER 3 Running Shoe  \n",
       "34         Men Ozrah Leather Sneakers  \n",
       "35        Men KING Top Football Shoes  \n",
       "36               Men Air Max Sneakers  \n",
       "37       Men Velocity Nitro 2 Running  \n",
       "38       Men GEL-Quantum 360 6 Sports  \n",
       "39           Men ENIGMA Running Shoes  \n",
       "40         Women Run XX Nitro Running  \n",
       "41                       Men Sneakers  \n",
       "42          Men Lockdown 5 Basketball  \n",
       "43                Men Leather Loafers  \n",
       "44        Men Adizero Adios 7 Running  \n",
       "45               Men Leather Slip-Ons  \n",
       "46         Men Dropset Training Shoes  \n",
       "47           Men Retropy F90 Sneakers  \n",
       "48        Unisex Accelerate Badminton  \n",
       "49      Unisex Eliminate Pro II Shoes  "
      ]
     },
     "execution_count": 79,
     "metadata": {},
     "output_type": "execute_result"
    }
   ],
   "source": [
    "df=pd.DataFrame({'Brand':brand,'Price':price,'Product Description':product_description})\n",
    "df"
   ]
  },
  {
   "cell_type": "markdown",
   "id": "6d05a522",
   "metadata": {},
   "source": [
    "# Q8. Scrape first 10 laptops data."
   ]
  },
  {
   "cell_type": "code",
   "execution_count": 80,
   "id": "a5f01d12",
   "metadata": {},
   "outputs": [],
   "source": [
    "driver=webdriver.Chrome(r\"chromedriver.exe\")"
   ]
  },
  {
   "cell_type": "code",
   "execution_count": 81,
   "id": "c4c411e7",
   "metadata": {},
   "outputs": [],
   "source": [
    "driver.get(\"https://www.amazon.in/\")"
   ]
  },
  {
   "cell_type": "code",
   "execution_count": 82,
   "id": "4a1171c3",
   "metadata": {},
   "outputs": [],
   "source": [
    "product=driver.find_element(By.XPATH,\"/html/body/div[1]/header/div/div[1]/div[2]/div/form/div[2]/div[1]/input\")\n",
    "product.send_keys('Laptops')"
   ]
  },
  {
   "cell_type": "code",
   "execution_count": 83,
   "id": "25b6b073",
   "metadata": {},
   "outputs": [],
   "source": [
    "search=driver.find_element(By.XPATH,\"/html/body/div[1]/header/div/div[1]/div[2]/div/form/div[3]/div\")\n",
    "search.click()"
   ]
  },
  {
   "cell_type": "code",
   "execution_count": 84,
   "id": "99b0625d",
   "metadata": {},
   "outputs": [
    {
     "ename": "NoSuchElementException",
     "evalue": "Message: no such element: Unable to locate element: {\"method\":\"xpath\",\"selector\":\"/html/body/div[1]/div[2]/div[1]/div[2]/div/div[3]/span/div[1]/div/div/div[6]/ul[4]/li[14]/span/a/span\"}\n  (Session info: chrome=104.0.5112.81)\nStacktrace:\nBacktrace:\n\tOrdinal0 [0x00FB78B3+2193587]\n\tOrdinal0 [0x00F50681+1771137]\n\tOrdinal0 [0x00E641A8+803240]\n\tOrdinal0 [0x00E924A0+992416]\n\tOrdinal0 [0x00E9273B+993083]\n\tOrdinal0 [0x00EBF7C2+1177538]\n\tOrdinal0 [0x00EAD7F4+1103860]\n\tOrdinal0 [0x00EBDAE2+1170146]\n\tOrdinal0 [0x00EAD5C6+1103302]\n\tOrdinal0 [0x00E877E0+948192]\n\tOrdinal0 [0x00E886E6+952038]\n\tGetHandleVerifier [0x01260CB2+2738370]\n\tGetHandleVerifier [0x012521B8+2678216]\n\tGetHandleVerifier [0x010417AA+512954]\n\tGetHandleVerifier [0x01040856+509030]\n\tOrdinal0 [0x00F5743B+1799227]\n\tOrdinal0 [0x00F5BB68+1817448]\n\tOrdinal0 [0x00F5BC55+1817685]\n\tOrdinal0 [0x00F65230+1856048]\n\tBaseThreadInitThunk [0x767E6739+25]\n\tRtlGetFullPathName_UEx [0x779490AF+1215]\n\tRtlGetFullPathName_UEx [0x7794907D+1165]\n",
     "output_type": "error",
     "traceback": [
      "\u001b[1;31m---------------------------------------------------------------------------\u001b[0m",
      "\u001b[1;31mNoSuchElementException\u001b[0m                    Traceback (most recent call last)",
      "Input \u001b[1;32mIn [84]\u001b[0m, in \u001b[0;36m<cell line: 1>\u001b[1;34m()\u001b[0m\n\u001b[1;32m----> 1\u001b[0m CPU\u001b[38;5;241m=\u001b[39m\u001b[43mdriver\u001b[49m\u001b[38;5;241;43m.\u001b[39;49m\u001b[43mfind_element\u001b[49m\u001b[43m(\u001b[49m\u001b[43mBy\u001b[49m\u001b[38;5;241;43m.\u001b[39;49m\u001b[43mXPATH\u001b[49m\u001b[43m,\u001b[49m\u001b[38;5;124;43m\"\u001b[39;49m\u001b[38;5;124;43m/html/body/div[1]/div[2]/div[1]/div[2]/div/div[3]/span/div[1]/div/div/div[6]/ul[4]/li[14]/span/a/span\u001b[39;49m\u001b[38;5;124;43m\"\u001b[39;49m\u001b[43m)\u001b[49m\n\u001b[0;32m      2\u001b[0m CPU\u001b[38;5;241m.\u001b[39mclick()\n",
      "File \u001b[1;32m~\\anaconda3\\lib\\site-packages\\selenium\\webdriver\\remote\\webdriver.py:856\u001b[0m, in \u001b[0;36mWebDriver.find_element\u001b[1;34m(self, by, value)\u001b[0m\n\u001b[0;32m    853\u001b[0m     by \u001b[38;5;241m=\u001b[39m By\u001b[38;5;241m.\u001b[39mCSS_SELECTOR\n\u001b[0;32m    854\u001b[0m     value \u001b[38;5;241m=\u001b[39m \u001b[38;5;124m'\u001b[39m\u001b[38;5;124m[name=\u001b[39m\u001b[38;5;124m\"\u001b[39m\u001b[38;5;132;01m%s\u001b[39;00m\u001b[38;5;124m\"\u001b[39m\u001b[38;5;124m]\u001b[39m\u001b[38;5;124m'\u001b[39m \u001b[38;5;241m%\u001b[39m value\n\u001b[1;32m--> 856\u001b[0m \u001b[38;5;28;01mreturn\u001b[39;00m \u001b[38;5;28;43mself\u001b[39;49m\u001b[38;5;241;43m.\u001b[39;49m\u001b[43mexecute\u001b[49m\u001b[43m(\u001b[49m\u001b[43mCommand\u001b[49m\u001b[38;5;241;43m.\u001b[39;49m\u001b[43mFIND_ELEMENT\u001b[49m\u001b[43m,\u001b[49m\u001b[43m \u001b[49m\u001b[43m{\u001b[49m\n\u001b[0;32m    857\u001b[0m \u001b[43m    \u001b[49m\u001b[38;5;124;43m'\u001b[39;49m\u001b[38;5;124;43musing\u001b[39;49m\u001b[38;5;124;43m'\u001b[39;49m\u001b[43m:\u001b[49m\u001b[43m \u001b[49m\u001b[43mby\u001b[49m\u001b[43m,\u001b[49m\n\u001b[0;32m    858\u001b[0m \u001b[43m    \u001b[49m\u001b[38;5;124;43m'\u001b[39;49m\u001b[38;5;124;43mvalue\u001b[39;49m\u001b[38;5;124;43m'\u001b[39;49m\u001b[43m:\u001b[49m\u001b[43m \u001b[49m\u001b[43mvalue\u001b[49m\u001b[43m}\u001b[49m\u001b[43m)\u001b[49m[\u001b[38;5;124m'\u001b[39m\u001b[38;5;124mvalue\u001b[39m\u001b[38;5;124m'\u001b[39m]\n",
      "File \u001b[1;32m~\\anaconda3\\lib\\site-packages\\selenium\\webdriver\\remote\\webdriver.py:434\u001b[0m, in \u001b[0;36mWebDriver.execute\u001b[1;34m(self, driver_command, params)\u001b[0m\n\u001b[0;32m    432\u001b[0m response \u001b[38;5;241m=\u001b[39m \u001b[38;5;28mself\u001b[39m\u001b[38;5;241m.\u001b[39mcommand_executor\u001b[38;5;241m.\u001b[39mexecute(driver_command, params)\n\u001b[0;32m    433\u001b[0m \u001b[38;5;28;01mif\u001b[39;00m response:\n\u001b[1;32m--> 434\u001b[0m     \u001b[38;5;28;43mself\u001b[39;49m\u001b[38;5;241;43m.\u001b[39;49m\u001b[43merror_handler\u001b[49m\u001b[38;5;241;43m.\u001b[39;49m\u001b[43mcheck_response\u001b[49m\u001b[43m(\u001b[49m\u001b[43mresponse\u001b[49m\u001b[43m)\u001b[49m\n\u001b[0;32m    435\u001b[0m     response[\u001b[38;5;124m'\u001b[39m\u001b[38;5;124mvalue\u001b[39m\u001b[38;5;124m'\u001b[39m] \u001b[38;5;241m=\u001b[39m \u001b[38;5;28mself\u001b[39m\u001b[38;5;241m.\u001b[39m_unwrap_value(\n\u001b[0;32m    436\u001b[0m         response\u001b[38;5;241m.\u001b[39mget(\u001b[38;5;124m'\u001b[39m\u001b[38;5;124mvalue\u001b[39m\u001b[38;5;124m'\u001b[39m, \u001b[38;5;28;01mNone\u001b[39;00m))\n\u001b[0;32m    437\u001b[0m     \u001b[38;5;28;01mreturn\u001b[39;00m response\n",
      "File \u001b[1;32m~\\anaconda3\\lib\\site-packages\\selenium\\webdriver\\remote\\errorhandler.py:243\u001b[0m, in \u001b[0;36mErrorHandler.check_response\u001b[1;34m(self, response)\u001b[0m\n\u001b[0;32m    241\u001b[0m         alert_text \u001b[38;5;241m=\u001b[39m value[\u001b[38;5;124m'\u001b[39m\u001b[38;5;124malert\u001b[39m\u001b[38;5;124m'\u001b[39m]\u001b[38;5;241m.\u001b[39mget(\u001b[38;5;124m'\u001b[39m\u001b[38;5;124mtext\u001b[39m\u001b[38;5;124m'\u001b[39m)\n\u001b[0;32m    242\u001b[0m     \u001b[38;5;28;01mraise\u001b[39;00m exception_class(message, screen, stacktrace, alert_text)  \u001b[38;5;66;03m# type: ignore[call-arg]  # mypy is not smart enough here\u001b[39;00m\n\u001b[1;32m--> 243\u001b[0m \u001b[38;5;28;01mraise\u001b[39;00m exception_class(message, screen, stacktrace)\n",
      "\u001b[1;31mNoSuchElementException\u001b[0m: Message: no such element: Unable to locate element: {\"method\":\"xpath\",\"selector\":\"/html/body/div[1]/div[2]/div[1]/div[2]/div/div[3]/span/div[1]/div/div/div[6]/ul[4]/li[14]/span/a/span\"}\n  (Session info: chrome=104.0.5112.81)\nStacktrace:\nBacktrace:\n\tOrdinal0 [0x00FB78B3+2193587]\n\tOrdinal0 [0x00F50681+1771137]\n\tOrdinal0 [0x00E641A8+803240]\n\tOrdinal0 [0x00E924A0+992416]\n\tOrdinal0 [0x00E9273B+993083]\n\tOrdinal0 [0x00EBF7C2+1177538]\n\tOrdinal0 [0x00EAD7F4+1103860]\n\tOrdinal0 [0x00EBDAE2+1170146]\n\tOrdinal0 [0x00EAD5C6+1103302]\n\tOrdinal0 [0x00E877E0+948192]\n\tOrdinal0 [0x00E886E6+952038]\n\tGetHandleVerifier [0x01260CB2+2738370]\n\tGetHandleVerifier [0x012521B8+2678216]\n\tGetHandleVerifier [0x010417AA+512954]\n\tGetHandleVerifier [0x01040856+509030]\n\tOrdinal0 [0x00F5743B+1799227]\n\tOrdinal0 [0x00F5BB68+1817448]\n\tOrdinal0 [0x00F5BC55+1817685]\n\tOrdinal0 [0x00F65230+1856048]\n\tBaseThreadInitThunk [0x767E6739+25]\n\tRtlGetFullPathName_UEx [0x779490AF+1215]\n\tRtlGetFullPathName_UEx [0x7794907D+1165]\n"
     ]
    }
   ],
   "source": [
    "CPU=driver.find_element(By.XPATH,\"/html/body/div[1]/div[2]/div[1]/div[2]/div/div[3]/span/div[1]/div/div/div[6]/ul[4]/li[14]/span/a/span\")\n",
    "CPU.click()"
   ]
  },
  {
   "cell_type": "code",
   "execution_count": 85,
   "id": "f67207d1",
   "metadata": {},
   "outputs": [],
   "source": [
    "title=[]\n",
    "rating=[]\n",
    "price=[]"
   ]
  },
  {
   "cell_type": "code",
   "execution_count": 86,
   "id": "a235836c",
   "metadata": {},
   "outputs": [],
   "source": [
    "title_tags=driver.find_elements(By.XPATH,'//span[@class=\"a-size-medium a-color-base a-text-normal\"]')\n",
    "for i in title_tags[0:10]:\n",
    "    tt=i.text\n",
    "    title.append(tt)"
   ]
  },
  {
   "cell_type": "code",
   "execution_count": 87,
   "id": "93e95720",
   "metadata": {},
   "outputs": [],
   "source": [
    "price_tags=driver.find_elements(By.XPATH,'//span[@class=\"a-price-whole\"]')\n",
    "for i in price_tags[0:10]:\n",
    "    PR=i.text\n",
    "    price.append(PR)"
   ]
  },
  {
   "cell_type": "code",
   "execution_count": 88,
   "id": "dbdb0977",
   "metadata": {},
   "outputs": [],
   "source": [
    "rating_tags=driver.find_elements(By.XPATH,'//a[@class=\"a-popover-trigger a-declarative\"]//span')\n",
    "for i in rating_tags[0:10]:\n",
    "    RA=i.text\n",
    "    rating.append(RA)"
   ]
  },
  {
   "cell_type": "code",
   "execution_count": 89,
   "id": "5c964f99",
   "metadata": {},
   "outputs": [
    {
     "name": "stdout",
     "output_type": "stream",
     "text": [
      "10 10 10\n"
     ]
    }
   ],
   "source": [
    "print(len(rating), len(title),len(price))"
   ]
  },
  {
   "cell_type": "code",
   "execution_count": 90,
   "id": "91f82738",
   "metadata": {},
   "outputs": [
    {
     "data": {
      "text/html": [
       "<div>\n",
       "<style scoped>\n",
       "    .dataframe tbody tr th:only-of-type {\n",
       "        vertical-align: middle;\n",
       "    }\n",
       "\n",
       "    .dataframe tbody tr th {\n",
       "        vertical-align: top;\n",
       "    }\n",
       "\n",
       "    .dataframe thead th {\n",
       "        text-align: right;\n",
       "    }\n",
       "</style>\n",
       "<table border=\"1\" class=\"dataframe\">\n",
       "  <thead>\n",
       "    <tr style=\"text-align: right;\">\n",
       "      <th></th>\n",
       "      <th>Rating</th>\n",
       "      <th>Title</th>\n",
       "      <th>Price</th>\n",
       "    </tr>\n",
       "  </thead>\n",
       "  <tbody>\n",
       "    <tr>\n",
       "      <th>0</th>\n",
       "      <td></td>\n",
       "      <td>HP 15s- 11th Gen Intel Core i5 -8GB RAM/512GB ...</td>\n",
       "      <td>50,999</td>\n",
       "    </tr>\n",
       "    <tr>\n",
       "      <th>1</th>\n",
       "      <td></td>\n",
       "      <td>Microsoft Surface Laptop GO2 Touch Screen 12.4...</td>\n",
       "      <td>71,990</td>\n",
       "    </tr>\n",
       "    <tr>\n",
       "      <th>2</th>\n",
       "      <td></td>\n",
       "      <td>ASUS VivoBook 15 (2021), 15.6-inch (39.62 cm) ...</td>\n",
       "      <td>25,990</td>\n",
       "    </tr>\n",
       "    <tr>\n",
       "      <th>3</th>\n",
       "      <td></td>\n",
       "      <td>ASUS VivoBook 14 (2021), 14-inch (35.56 cm) HD...</td>\n",
       "      <td>28,990</td>\n",
       "    </tr>\n",
       "    <tr>\n",
       "      <th>4</th>\n",
       "      <td></td>\n",
       "      <td>Lenovo IdeaPad Slim 3 Intel Celeron N4020 15.6...</td>\n",
       "      <td>27,290</td>\n",
       "    </tr>\n",
       "    <tr>\n",
       "      <th>5</th>\n",
       "      <td></td>\n",
       "      <td>Lenovo IdeaPad Slim 3 Intel Core i5 12th Gen 1...</td>\n",
       "      <td>47,490</td>\n",
       "    </tr>\n",
       "    <tr>\n",
       "      <th>6</th>\n",
       "      <td></td>\n",
       "      <td>HP NB 255 G8 Laptop (AMD Ryzen 3-3250U/8GB DDR...</td>\n",
       "      <td>37,490</td>\n",
       "    </tr>\n",
       "    <tr>\n",
       "      <th>7</th>\n",
       "      <td></td>\n",
       "      <td>Lenovo IdeaPad Slim 1 Intel Celeron N4020 11.6...</td>\n",
       "      <td>52,990</td>\n",
       "    </tr>\n",
       "    <tr>\n",
       "      <th>8</th>\n",
       "      <td></td>\n",
       "      <td>Lenovo IdeaPad Slim 3 Intel Core i3 10th Gen 1...</td>\n",
       "      <td></td>\n",
       "    </tr>\n",
       "    <tr>\n",
       "      <th>9</th>\n",
       "      <td></td>\n",
       "      <td>HP 15- AMD Ryzen 3-3250U 15.6 inch(39.6 cm) FH...</td>\n",
       "      <td></td>\n",
       "    </tr>\n",
       "  </tbody>\n",
       "</table>\n",
       "</div>"
      ],
      "text/plain": [
       "  Rating                                              Title   Price\n",
       "0         HP 15s- 11th Gen Intel Core i5 -8GB RAM/512GB ...  50,999\n",
       "1         Microsoft Surface Laptop GO2 Touch Screen 12.4...  71,990\n",
       "2         ASUS VivoBook 15 (2021), 15.6-inch (39.62 cm) ...  25,990\n",
       "3         ASUS VivoBook 14 (2021), 14-inch (35.56 cm) HD...  28,990\n",
       "4         Lenovo IdeaPad Slim 3 Intel Celeron N4020 15.6...  27,290\n",
       "5         Lenovo IdeaPad Slim 3 Intel Core i5 12th Gen 1...  47,490\n",
       "6         HP NB 255 G8 Laptop (AMD Ryzen 3-3250U/8GB DDR...  37,490\n",
       "7         Lenovo IdeaPad Slim 1 Intel Celeron N4020 11.6...  52,990\n",
       "8         Lenovo IdeaPad Slim 3 Intel Core i3 10th Gen 1...        \n",
       "9         HP 15- AMD Ryzen 3-3250U 15.6 inch(39.6 cm) FH...        "
      ]
     },
     "execution_count": 90,
     "metadata": {},
     "output_type": "execute_result"
    }
   ],
   "source": [
    "df=pd.DataFrame({'Rating':rating,'Title':title,'Price':price})\n",
    "df"
   ]
  },
  {
   "cell_type": "markdown",
   "id": "f3631f10",
   "metadata": {},
   "source": [
    "# Q9. Python program to scrape the salary data for Data Scientist designation"
   ]
  },
  {
   "cell_type": "code",
   "execution_count": 92,
   "id": "05093951",
   "metadata": {},
   "outputs": [],
   "source": [
    "driver=webdriver.Chrome(r\"chromedriver.exe\")"
   ]
  },
  {
   "cell_type": "code",
   "execution_count": 93,
   "id": "a8be0006",
   "metadata": {},
   "outputs": [],
   "source": [
    "driver.get(\"https://www.ambitionbox.com/\")"
   ]
  },
  {
   "cell_type": "code",
   "execution_count": 94,
   "id": "ef9b4d64",
   "metadata": {},
   "outputs": [],
   "source": [
    "jobs=driver.find_element(By.XPATH,\"/html/body/div[1]/nav[2]/div/ul/li[5]/a\")\n",
    "jobs.click()"
   ]
  },
  {
   "cell_type": "code",
   "execution_count": 95,
   "id": "d9e41829",
   "metadata": {},
   "outputs": [],
   "source": [
    "designation=driver.find_element(By.XPATH,\"/html/body/div/div/div/div[2]/div[1]/div[1]/div/div/div/div/span/input\")\n",
    "designation.send_keys('Data Scientist')"
   ]
  },
  {
   "cell_type": "code",
   "execution_count": 96,
   "id": "672905da",
   "metadata": {},
   "outputs": [],
   "source": [
    "search=driver.find_element(By.XPATH,\"/html/body/div/div/div/div[2]/div[1]/div[1]/div/div/div/button\")\n",
    "search.click()"
   ]
  },
  {
   "cell_type": "code",
   "execution_count": 97,
   "id": "120fba1a",
   "metadata": {},
   "outputs": [],
   "source": [
    "select=driver.find_element(By.XPATH,\"/html/body/div/div/div/div[2]/div[1]/div[2]/div[1]/div/div/div/div[2]/div[1]/i\")\n",
    "select.click()"
   ]
  },
  {
   "cell_type": "code",
   "execution_count": 98,
   "id": "f1a55636",
   "metadata": {},
   "outputs": [],
   "source": [
    "location=driver.find_element(By.XPATH,\"/html/body/div/div/div/div[2]/div[1]/div[2]/div[1]/div/div/div/div[2]/div[2]/div/div[2]/input\")\n",
    "location.send_keys('Noida')"
   ]
  },
  {
   "cell_type": "code",
   "execution_count": 99,
   "id": "de33823d",
   "metadata": {},
   "outputs": [],
   "source": [
    "ND=driver.find_element(By.XPATH,\"/html/body/div/div/div/div[2]/div[1]/div[2]/div[1]/div/div/div/div[2]/div[2]/div/div[3]/div[1]/div[1]/div/label\")\n",
    "ND.click()"
   ]
  },
  {
   "cell_type": "code",
   "execution_count": 100,
   "id": "4175cc00",
   "metadata": {},
   "outputs": [],
   "source": [
    "job_title=[]\n",
    "company_name=[]"
   ]
  },
  {
   "cell_type": "code",
   "execution_count": 101,
   "id": "f564ad20",
   "metadata": {},
   "outputs": [],
   "source": [
    "title_tags=driver.find_elements(By.XPATH,'//a[@class=\"title noclick\"]')\n",
    "for i in title_tags[0:10]:\n",
    "    title=i.text\n",
    "    job_title.append(title)"
   ]
  },
  {
   "cell_type": "code",
   "execution_count": 102,
   "id": "764b8f75",
   "metadata": {},
   "outputs": [],
   "source": [
    "company_tags=driver.find_elements(By.XPATH,'//div[@class=\"company-info\"]')\n",
    "for i in company_tags[0:10]:\n",
    "  company=i.text\n",
    "  company_name.append(company)"
   ]
  },
  {
   "cell_type": "code",
   "execution_count": 103,
   "id": "e0bea33e",
   "metadata": {},
   "outputs": [
    {
     "name": "stdout",
     "output_type": "stream",
     "text": [
      "10 10\n"
     ]
    }
   ],
   "source": [
    "print(len(job_title),len(company_name))"
   ]
  },
  {
   "cell_type": "code",
   "execution_count": 104,
   "id": "2f7f2c28",
   "metadata": {},
   "outputs": [
    {
     "data": {
      "text/html": [
       "<div>\n",
       "<style scoped>\n",
       "    .dataframe tbody tr th:only-of-type {\n",
       "        vertical-align: middle;\n",
       "    }\n",
       "\n",
       "    .dataframe tbody tr th {\n",
       "        vertical-align: top;\n",
       "    }\n",
       "\n",
       "    .dataframe thead th {\n",
       "        text-align: right;\n",
       "    }\n",
       "</style>\n",
       "<table border=\"1\" class=\"dataframe\">\n",
       "  <thead>\n",
       "    <tr style=\"text-align: right;\">\n",
       "      <th></th>\n",
       "      <th>Job Title</th>\n",
       "      <th>Company Name</th>\n",
       "    </tr>\n",
       "  </thead>\n",
       "  <tbody>\n",
       "    <tr>\n",
       "      <th>0</th>\n",
       "      <td>Hiring Data Scientist #productbasecompany #CBRE</td>\n",
       "      <td>CBRE South Asia Pvt Ltd\\n · \\n4.3\\nbased on 2....</td>\n",
       "    </tr>\n",
       "    <tr>\n",
       "      <th>1</th>\n",
       "      <td>Data Scientist</td>\n",
       "      <td>CBRE South Asia Pvt Ltd\\n4.3\\n(2.3k Reviews)</td>\n",
       "    </tr>\n",
       "    <tr>\n",
       "      <th>2</th>\n",
       "      <td>Data Scientist</td>\n",
       "      <td>Ericsson India Global Services Pvt. Ltd.\\n4.3\\...</td>\n",
       "    </tr>\n",
       "    <tr>\n",
       "      <th>3</th>\n",
       "      <td>Data Scientist</td>\n",
       "      <td>GENPACT India Private Limited\\n4.0\\n(19.9k Rev...</td>\n",
       "    </tr>\n",
       "    <tr>\n",
       "      <th>4</th>\n",
       "      <td>Associate Manager - Data Scientist</td>\n",
       "      <td>Optum Global Solutions (India) Private Limited...</td>\n",
       "    </tr>\n",
       "    <tr>\n",
       "      <th>5</th>\n",
       "      <td>Data Scientist</td>\n",
       "      <td>Optum Global Solutions (India) Private Limited...</td>\n",
       "    </tr>\n",
       "    <tr>\n",
       "      <th>6</th>\n",
       "      <td>Data Scientist</td>\n",
       "      <td>Ericsson India Global Services Pvt. Ltd.\\n4.3\\...</td>\n",
       "    </tr>\n",
       "    <tr>\n",
       "      <th>7</th>\n",
       "      <td>Data Scientist - Noida/Bangalore</td>\n",
       "      <td>SOPRA STERIA INDIA LIMITED\\n4.2\\n(1.1k Reviews)</td>\n",
       "    </tr>\n",
       "    <tr>\n",
       "      <th>8</th>\n",
       "      <td>EY - Data Engineer - Data Integration/Modeling...</td>\n",
       "      <td>EXL Services.com ( I ) Pvt. Ltd.\\n3.9\\n(5.1k R...</td>\n",
       "    </tr>\n",
       "    <tr>\n",
       "      <th>9</th>\n",
       "      <td>Data Scientist Intern</td>\n",
       "      <td>EY\\n3.8\\n(7.1k Reviews)</td>\n",
       "    </tr>\n",
       "  </tbody>\n",
       "</table>\n",
       "</div>"
      ],
      "text/plain": [
       "                                           Job Title  \\\n",
       "0    Hiring Data Scientist #productbasecompany #CBRE   \n",
       "1                                     Data Scientist   \n",
       "2                                     Data Scientist   \n",
       "3                                     Data Scientist   \n",
       "4                 Associate Manager - Data Scientist   \n",
       "5                                     Data Scientist   \n",
       "6                                     Data Scientist   \n",
       "7                   Data Scientist - Noida/Bangalore   \n",
       "8  EY - Data Engineer - Data Integration/Modeling...   \n",
       "9                              Data Scientist Intern   \n",
       "\n",
       "                                        Company Name  \n",
       "0  CBRE South Asia Pvt Ltd\\n · \\n4.3\\nbased on 2....  \n",
       "1       CBRE South Asia Pvt Ltd\\n4.3\\n(2.3k Reviews)  \n",
       "2  Ericsson India Global Services Pvt. Ltd.\\n4.3\\...  \n",
       "3  GENPACT India Private Limited\\n4.0\\n(19.9k Rev...  \n",
       "4  Optum Global Solutions (India) Private Limited...  \n",
       "5  Optum Global Solutions (India) Private Limited...  \n",
       "6  Ericsson India Global Services Pvt. Ltd.\\n4.3\\...  \n",
       "7    SOPRA STERIA INDIA LIMITED\\n4.2\\n(1.1k Reviews)  \n",
       "8  EXL Services.com ( I ) Pvt. Ltd.\\n3.9\\n(5.1k R...  \n",
       "9                            EY\\n3.8\\n(7.1k Reviews)  "
      ]
     },
     "execution_count": 104,
     "metadata": {},
     "output_type": "execute_result"
    }
   ],
   "source": [
    "df=pd.DataFrame({'Job Title':job_title,'Company Name':company_name})\n",
    "df"
   ]
  },
  {
   "cell_type": "markdown",
   "id": "32e30635",
   "metadata": {},
   "source": [
    "# Q10.python program to scrape the salary data for Data Scientist designation. You have to scrape Company name, Number of salaries, Average salary, Minsalary, Max Salary."
   ]
  },
  {
   "cell_type": "code",
   "execution_count": 105,
   "id": "0e80ecba",
   "metadata": {},
   "outputs": [],
   "source": [
    "driver=webdriver.Chrome(r\"chromedriver.exe\")"
   ]
  },
  {
   "cell_type": "code",
   "execution_count": 106,
   "id": "331c745e",
   "metadata": {},
   "outputs": [],
   "source": [
    "driver.get(\"https://www.ambitionbox.com/\")"
   ]
  },
  {
   "cell_type": "code",
   "execution_count": 107,
   "id": "fe298111",
   "metadata": {},
   "outputs": [],
   "source": [
    "Select=driver.find_element(By.XPATH,\"/html/body/div[1]/nav[2]/div/ul/li[3]/a\")\n",
    "Select.click()"
   ]
  },
  {
   "cell_type": "code",
   "execution_count": 108,
   "id": "c1d6ee89",
   "metadata": {},
   "outputs": [],
   "source": [
    "bsalary=driver.find_element(By.XPATH,\"/html/body/div[1]/nav[2]/div/ul/li[3]/div/ul/li[1]/div\")\n",
    "bsalary.click()"
   ]
  },
  {
   "cell_type": "code",
   "execution_count": 109,
   "id": "e921ec5c",
   "metadata": {},
   "outputs": [],
   "source": [
    "designation=driver.find_element(By.XPATH,\"/html/body/div/div/div/main/section[1]/div[2]/div[1]/span/input\")\n",
    "designation.send_keys('Data Scientist')"
   ]
  },
  {
   "cell_type": "code",
   "execution_count": 110,
   "id": "3b76b624",
   "metadata": {},
   "outputs": [
    {
     "ename": "NoSuchElementException",
     "evalue": "Message: no such element: Unable to locate element: {\"method\":\"xpath\",\"selector\":\"/html/body/div/div/div/main/section[1]/div[2]/div[1]/span/div/div/div[1]\"}\n  (Session info: chrome=104.0.5112.81)\nStacktrace:\nBacktrace:\n\tOrdinal0 [0x00FB78B3+2193587]\n\tOrdinal0 [0x00F50681+1771137]\n\tOrdinal0 [0x00E641A8+803240]\n\tOrdinal0 [0x00E924A0+992416]\n\tOrdinal0 [0x00E9273B+993083]\n\tOrdinal0 [0x00EBF7C2+1177538]\n\tOrdinal0 [0x00EAD7F4+1103860]\n\tOrdinal0 [0x00EBDAE2+1170146]\n\tOrdinal0 [0x00EAD5C6+1103302]\n\tOrdinal0 [0x00E877E0+948192]\n\tOrdinal0 [0x00E886E6+952038]\n\tGetHandleVerifier [0x01260CB2+2738370]\n\tGetHandleVerifier [0x012521B8+2678216]\n\tGetHandleVerifier [0x010417AA+512954]\n\tGetHandleVerifier [0x01040856+509030]\n\tOrdinal0 [0x00F5743B+1799227]\n\tOrdinal0 [0x00F5BB68+1817448]\n\tOrdinal0 [0x00F5BC55+1817685]\n\tOrdinal0 [0x00F65230+1856048]\n\tBaseThreadInitThunk [0x767E6739+25]\n\tRtlGetFullPathName_UEx [0x779490AF+1215]\n\tRtlGetFullPathName_UEx [0x7794907D+1165]\n",
     "output_type": "error",
     "traceback": [
      "\u001b[1;31m---------------------------------------------------------------------------\u001b[0m",
      "\u001b[1;31mNoSuchElementException\u001b[0m                    Traceback (most recent call last)",
      "Input \u001b[1;32mIn [110]\u001b[0m, in \u001b[0;36m<cell line: 1>\u001b[1;34m()\u001b[0m\n\u001b[1;32m----> 1\u001b[0m dclick\u001b[38;5;241m=\u001b[39m\u001b[43mdriver\u001b[49m\u001b[38;5;241;43m.\u001b[39;49m\u001b[43mfind_element\u001b[49m\u001b[43m(\u001b[49m\u001b[43mBy\u001b[49m\u001b[38;5;241;43m.\u001b[39;49m\u001b[43mXPATH\u001b[49m\u001b[43m,\u001b[49m\u001b[38;5;124;43m\"\u001b[39;49m\u001b[38;5;124;43m/html/body/div/div/div/main/section[1]/div[2]/div[1]/span/div/div/div[1]\u001b[39;49m\u001b[38;5;124;43m\"\u001b[39;49m\u001b[43m)\u001b[49m\n\u001b[0;32m      2\u001b[0m dclick\u001b[38;5;241m.\u001b[39mclick()\n",
      "File \u001b[1;32m~\\anaconda3\\lib\\site-packages\\selenium\\webdriver\\remote\\webdriver.py:856\u001b[0m, in \u001b[0;36mWebDriver.find_element\u001b[1;34m(self, by, value)\u001b[0m\n\u001b[0;32m    853\u001b[0m     by \u001b[38;5;241m=\u001b[39m By\u001b[38;5;241m.\u001b[39mCSS_SELECTOR\n\u001b[0;32m    854\u001b[0m     value \u001b[38;5;241m=\u001b[39m \u001b[38;5;124m'\u001b[39m\u001b[38;5;124m[name=\u001b[39m\u001b[38;5;124m\"\u001b[39m\u001b[38;5;132;01m%s\u001b[39;00m\u001b[38;5;124m\"\u001b[39m\u001b[38;5;124m]\u001b[39m\u001b[38;5;124m'\u001b[39m \u001b[38;5;241m%\u001b[39m value\n\u001b[1;32m--> 856\u001b[0m \u001b[38;5;28;01mreturn\u001b[39;00m \u001b[38;5;28;43mself\u001b[39;49m\u001b[38;5;241;43m.\u001b[39;49m\u001b[43mexecute\u001b[49m\u001b[43m(\u001b[49m\u001b[43mCommand\u001b[49m\u001b[38;5;241;43m.\u001b[39;49m\u001b[43mFIND_ELEMENT\u001b[49m\u001b[43m,\u001b[49m\u001b[43m \u001b[49m\u001b[43m{\u001b[49m\n\u001b[0;32m    857\u001b[0m \u001b[43m    \u001b[49m\u001b[38;5;124;43m'\u001b[39;49m\u001b[38;5;124;43musing\u001b[39;49m\u001b[38;5;124;43m'\u001b[39;49m\u001b[43m:\u001b[49m\u001b[43m \u001b[49m\u001b[43mby\u001b[49m\u001b[43m,\u001b[49m\n\u001b[0;32m    858\u001b[0m \u001b[43m    \u001b[49m\u001b[38;5;124;43m'\u001b[39;49m\u001b[38;5;124;43mvalue\u001b[39;49m\u001b[38;5;124;43m'\u001b[39;49m\u001b[43m:\u001b[49m\u001b[43m \u001b[49m\u001b[43mvalue\u001b[49m\u001b[43m}\u001b[49m\u001b[43m)\u001b[49m[\u001b[38;5;124m'\u001b[39m\u001b[38;5;124mvalue\u001b[39m\u001b[38;5;124m'\u001b[39m]\n",
      "File \u001b[1;32m~\\anaconda3\\lib\\site-packages\\selenium\\webdriver\\remote\\webdriver.py:434\u001b[0m, in \u001b[0;36mWebDriver.execute\u001b[1;34m(self, driver_command, params)\u001b[0m\n\u001b[0;32m    432\u001b[0m response \u001b[38;5;241m=\u001b[39m \u001b[38;5;28mself\u001b[39m\u001b[38;5;241m.\u001b[39mcommand_executor\u001b[38;5;241m.\u001b[39mexecute(driver_command, params)\n\u001b[0;32m    433\u001b[0m \u001b[38;5;28;01mif\u001b[39;00m response:\n\u001b[1;32m--> 434\u001b[0m     \u001b[38;5;28;43mself\u001b[39;49m\u001b[38;5;241;43m.\u001b[39;49m\u001b[43merror_handler\u001b[49m\u001b[38;5;241;43m.\u001b[39;49m\u001b[43mcheck_response\u001b[49m\u001b[43m(\u001b[49m\u001b[43mresponse\u001b[49m\u001b[43m)\u001b[49m\n\u001b[0;32m    435\u001b[0m     response[\u001b[38;5;124m'\u001b[39m\u001b[38;5;124mvalue\u001b[39m\u001b[38;5;124m'\u001b[39m] \u001b[38;5;241m=\u001b[39m \u001b[38;5;28mself\u001b[39m\u001b[38;5;241m.\u001b[39m_unwrap_value(\n\u001b[0;32m    436\u001b[0m         response\u001b[38;5;241m.\u001b[39mget(\u001b[38;5;124m'\u001b[39m\u001b[38;5;124mvalue\u001b[39m\u001b[38;5;124m'\u001b[39m, \u001b[38;5;28;01mNone\u001b[39;00m))\n\u001b[0;32m    437\u001b[0m     \u001b[38;5;28;01mreturn\u001b[39;00m response\n",
      "File \u001b[1;32m~\\anaconda3\\lib\\site-packages\\selenium\\webdriver\\remote\\errorhandler.py:243\u001b[0m, in \u001b[0;36mErrorHandler.check_response\u001b[1;34m(self, response)\u001b[0m\n\u001b[0;32m    241\u001b[0m         alert_text \u001b[38;5;241m=\u001b[39m value[\u001b[38;5;124m'\u001b[39m\u001b[38;5;124malert\u001b[39m\u001b[38;5;124m'\u001b[39m]\u001b[38;5;241m.\u001b[39mget(\u001b[38;5;124m'\u001b[39m\u001b[38;5;124mtext\u001b[39m\u001b[38;5;124m'\u001b[39m)\n\u001b[0;32m    242\u001b[0m     \u001b[38;5;28;01mraise\u001b[39;00m exception_class(message, screen, stacktrace, alert_text)  \u001b[38;5;66;03m# type: ignore[call-arg]  # mypy is not smart enough here\u001b[39;00m\n\u001b[1;32m--> 243\u001b[0m \u001b[38;5;28;01mraise\u001b[39;00m exception_class(message, screen, stacktrace)\n",
      "\u001b[1;31mNoSuchElementException\u001b[0m: Message: no such element: Unable to locate element: {\"method\":\"xpath\",\"selector\":\"/html/body/div/div/div/main/section[1]/div[2]/div[1]/span/div/div/div[1]\"}\n  (Session info: chrome=104.0.5112.81)\nStacktrace:\nBacktrace:\n\tOrdinal0 [0x00FB78B3+2193587]\n\tOrdinal0 [0x00F50681+1771137]\n\tOrdinal0 [0x00E641A8+803240]\n\tOrdinal0 [0x00E924A0+992416]\n\tOrdinal0 [0x00E9273B+993083]\n\tOrdinal0 [0x00EBF7C2+1177538]\n\tOrdinal0 [0x00EAD7F4+1103860]\n\tOrdinal0 [0x00EBDAE2+1170146]\n\tOrdinal0 [0x00EAD5C6+1103302]\n\tOrdinal0 [0x00E877E0+948192]\n\tOrdinal0 [0x00E886E6+952038]\n\tGetHandleVerifier [0x01260CB2+2738370]\n\tGetHandleVerifier [0x012521B8+2678216]\n\tGetHandleVerifier [0x010417AA+512954]\n\tGetHandleVerifier [0x01040856+509030]\n\tOrdinal0 [0x00F5743B+1799227]\n\tOrdinal0 [0x00F5BB68+1817448]\n\tOrdinal0 [0x00F5BC55+1817685]\n\tOrdinal0 [0x00F65230+1856048]\n\tBaseThreadInitThunk [0x767E6739+25]\n\tRtlGetFullPathName_UEx [0x779490AF+1215]\n\tRtlGetFullPathName_UEx [0x7794907D+1165]\n"
     ]
    }
   ],
   "source": [
    "dclick=driver.find_element(By.XPATH,\"/html/body/div/div/div/main/section[1]/div[2]/div[1]/span/div/div/div[1]\")\n",
    "dclick.click()"
   ]
  },
  {
   "cell_type": "code",
   "execution_count": 111,
   "id": "cbc97749",
   "metadata": {},
   "outputs": [],
   "source": [
    "Experience_Required=[]\n",
    "company_name=[]\n",
    "Total_Salary=[]\n",
    "Average=[]\n",
    "Minimum=[]\n",
    "Maximum=[]"
   ]
  },
  {
   "cell_type": "code",
   "execution_count": 112,
   "id": "41fbd692",
   "metadata": {},
   "outputs": [],
   "source": [
    "experience_tags=driver.find_elements(By.CLASS_NAME,'sbold-list-header')\n",
    "for i in title_tags[0:10]:\n",
    "    exp=i.text\n",
    "    Experience_Required.append(exp)"
   ]
  },
  {
   "cell_type": "code",
   "execution_count": 113,
   "id": "b88c022e",
   "metadata": {},
   "outputs": [],
   "source": [
    "company_tags=driver.find_elements(By.XPATH,'//div[@class=\"company-info\"]//a')\n",
    "for i in company_tags[0:10]:\n",
    "  company=i.text\n",
    "  company_name.append(company)"
   ]
  },
  {
   "cell_type": "code",
   "execution_count": 114,
   "id": "e9912b52",
   "metadata": {},
   "outputs": [],
   "source": [
    "avg_tags=driver.find_elements(By.XPATH,'//p[@class=\"averageCtc\"]')\n",
    "for i in avg_tags[0:10]:\n",
    "  avg=i.text\n",
    "  Average.append(avg)"
   ]
  },
  {
   "cell_type": "code",
   "execution_count": 115,
   "id": "a14b7829",
   "metadata": {},
   "outputs": [],
   "source": [
    "TS_tags=driver.find_elements(By.XPATH,'//span[@class=\"datapoints\"]')\n",
    "for i in TS_tags[0:10]:\n",
    "  TS=i.text\n",
    "  Total_Salary.append(TS)"
   ]
  },
  {
   "cell_type": "code",
   "execution_count": 116,
   "id": "92c74f51",
   "metadata": {},
   "outputs": [],
   "source": [
    "min_tags=driver.find_elements(By.XPATH,'//div[@class=\"value body-medium\"]')\n",
    "for i in min_tags[0:10]:\n",
    "  min=i.text\n",
    "  Minimum.append(min)"
   ]
  },
  {
   "cell_type": "code",
   "execution_count": 117,
   "id": "104610c8",
   "metadata": {},
   "outputs": [],
   "source": [
    "max_tags=driver.find_elements(By.XPATH,'//div[@class=\"value body-medium\"]')\n",
    "for i in max_tags[0:10]:\n",
    "  max=i.text\n",
    "  Maximum.append(max)"
   ]
  },
  {
   "cell_type": "code",
   "execution_count": 118,
   "id": "44b88859",
   "metadata": {},
   "outputs": [
    {
     "name": "stdout",
     "output_type": "stream",
     "text": [
      "10 10 10 10 10\n"
     ]
    }
   ],
   "source": [
    "print(len(Experience_Required),len(company_name),len(Total_Salary),len(Minimum),len(Maximum))"
   ]
  },
  {
   "cell_type": "code",
   "execution_count": 119,
   "id": "4ac2bd7a",
   "metadata": {},
   "outputs": [
    {
     "data": {
      "text/html": [
       "<div>\n",
       "<style scoped>\n",
       "    .dataframe tbody tr th:only-of-type {\n",
       "        vertical-align: middle;\n",
       "    }\n",
       "\n",
       "    .dataframe tbody tr th {\n",
       "        vertical-align: top;\n",
       "    }\n",
       "\n",
       "    .dataframe thead th {\n",
       "        text-align: right;\n",
       "    }\n",
       "</style>\n",
       "<table border=\"1\" class=\"dataframe\">\n",
       "  <thead>\n",
       "    <tr style=\"text-align: right;\">\n",
       "      <th></th>\n",
       "      <th>Company Name</th>\n",
       "      <th>Total Salary Record</th>\n",
       "      <th>Maximum Salary</th>\n",
       "      <th>Minimum Salary</th>\n",
       "    </tr>\n",
       "  </thead>\n",
       "  <tbody>\n",
       "    <tr>\n",
       "      <th>0</th>\n",
       "      <td>Google\\nSoftware Engineer Salary</td>\n",
       "      <td>(based on 51 salaries)</td>\n",
       "      <td>₹ 11.7L</td>\n",
       "      <td>₹ 11.7L</td>\n",
       "    </tr>\n",
       "    <tr>\n",
       "      <th>1</th>\n",
       "      <td>Microsoft Corporation\\nSoftware Engineer Salary</td>\n",
       "      <td>(based on 334 salaries)</td>\n",
       "      <td>₹ 97.0L</td>\n",
       "      <td>₹ 97.0L</td>\n",
       "    </tr>\n",
       "    <tr>\n",
       "      <th>2</th>\n",
       "      <td>Goldman Sachs\\nSoftware Engineer Salary</td>\n",
       "      <td>(based on 36 salaries)</td>\n",
       "      <td>₹ 13.0L</td>\n",
       "      <td>₹ 13.0L</td>\n",
       "    </tr>\n",
       "    <tr>\n",
       "      <th>3</th>\n",
       "      <td>Amazon\\nSoftware Engineer Salary</td>\n",
       "      <td>(based on 133 salaries)</td>\n",
       "      <td>₹ 50.0L</td>\n",
       "      <td>₹ 50.0L</td>\n",
       "    </tr>\n",
       "    <tr>\n",
       "      <th>4</th>\n",
       "      <td>Servicenow Software Development India\\nSoftwar...</td>\n",
       "      <td>(based on 71 salaries)</td>\n",
       "      <td>₹ 12.0L</td>\n",
       "      <td>₹ 12.0L</td>\n",
       "    </tr>\n",
       "    <tr>\n",
       "      <th>5</th>\n",
       "      <td>Tekion\\nSoftware Engineer Salary</td>\n",
       "      <td>(based on 41 salaries)</td>\n",
       "      <td>₹ 34.0L</td>\n",
       "      <td>₹ 34.0L</td>\n",
       "    </tr>\n",
       "    <tr>\n",
       "      <th>6</th>\n",
       "      <td>Walmart\\nSoftware Engineer Salary</td>\n",
       "      <td>(based on 105 salaries)</td>\n",
       "      <td>₹ 8.7L</td>\n",
       "      <td>₹ 8.7L</td>\n",
       "    </tr>\n",
       "    <tr>\n",
       "      <th>7</th>\n",
       "      <td>PayPal\\nSoftware Engineer Salary</td>\n",
       "      <td>(based on 29 salaries)</td>\n",
       "      <td>₹ 45.0L</td>\n",
       "      <td>₹ 45.0L</td>\n",
       "    </tr>\n",
       "    <tr>\n",
       "      <th>8</th>\n",
       "      <td>Arista Networks\\nSoftware Engineer Salary</td>\n",
       "      <td>(based on 56 salaries)</td>\n",
       "      <td>₹ 14.0L</td>\n",
       "      <td>₹ 14.0L</td>\n",
       "    </tr>\n",
       "    <tr>\n",
       "      <th>9</th>\n",
       "      <td>Arcesium\\nSoftware Engineer Salary</td>\n",
       "      <td>(based on 68 salaries)</td>\n",
       "      <td>₹ 30.0L</td>\n",
       "      <td>₹ 30.0L</td>\n",
       "    </tr>\n",
       "  </tbody>\n",
       "</table>\n",
       "</div>"
      ],
      "text/plain": [
       "                                        Company Name      Total Salary Record  \\\n",
       "0                   Google\\nSoftware Engineer Salary   (based on 51 salaries)   \n",
       "1    Microsoft Corporation\\nSoftware Engineer Salary  (based on 334 salaries)   \n",
       "2            Goldman Sachs\\nSoftware Engineer Salary   (based on 36 salaries)   \n",
       "3                   Amazon\\nSoftware Engineer Salary  (based on 133 salaries)   \n",
       "4  Servicenow Software Development India\\nSoftwar...   (based on 71 salaries)   \n",
       "5                   Tekion\\nSoftware Engineer Salary   (based on 41 salaries)   \n",
       "6                  Walmart\\nSoftware Engineer Salary  (based on 105 salaries)   \n",
       "7                   PayPal\\nSoftware Engineer Salary   (based on 29 salaries)   \n",
       "8          Arista Networks\\nSoftware Engineer Salary   (based on 56 salaries)   \n",
       "9                 Arcesium\\nSoftware Engineer Salary   (based on 68 salaries)   \n",
       "\n",
       "  Maximum Salary Minimum Salary  \n",
       "0        ₹ 11.7L        ₹ 11.7L  \n",
       "1        ₹ 97.0L        ₹ 97.0L  \n",
       "2        ₹ 13.0L        ₹ 13.0L  \n",
       "3        ₹ 50.0L        ₹ 50.0L  \n",
       "4        ₹ 12.0L        ₹ 12.0L  \n",
       "5        ₹ 34.0L        ₹ 34.0L  \n",
       "6         ₹ 8.7L         ₹ 8.7L  \n",
       "7        ₹ 45.0L        ₹ 45.0L  \n",
       "8        ₹ 14.0L        ₹ 14.0L  \n",
       "9        ₹ 30.0L        ₹ 30.0L  "
      ]
     },
     "execution_count": 119,
     "metadata": {},
     "output_type": "execute_result"
    }
   ],
   "source": [
    "df=pd.DataFrame({'Company Name':company_name,\"Total Salary Record\":Total_Salary,\"Maximum Salary\":Maximum, \"Minimum Salary\":Minimum})\n",
    "df"
   ]
  },
  {
   "cell_type": "code",
   "execution_count": null,
   "id": "5f93281d",
   "metadata": {},
   "outputs": [],
   "source": []
  }
 ],
 "metadata": {
  "kernelspec": {
   "display_name": "Python 3 (ipykernel)",
   "language": "python",
   "name": "python3"
  },
  "language_info": {
   "codemirror_mode": {
    "name": "ipython",
    "version": 3
   },
   "file_extension": ".py",
   "mimetype": "text/x-python",
   "name": "python",
   "nbconvert_exporter": "python",
   "pygments_lexer": "ipython3",
   "version": "3.9.12"
  }
 },
 "nbformat": 4,
 "nbformat_minor": 5
}
